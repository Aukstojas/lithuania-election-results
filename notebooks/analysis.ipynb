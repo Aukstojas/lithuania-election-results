{
 "cells": [
  {
   "cell_type": "markdown",
   "metadata": {},
   "source": [
    "# kedro"
   ]
  },
  {
   "cell_type": "code",
   "execution_count": 33,
   "metadata": {},
   "outputs": [],
   "source": [
    "import pandas as pd\n",
    "import numpy as np"
   ]
  },
  {
   "cell_type": "code",
   "execution_count": 1,
   "metadata": {},
   "outputs": [
    {
     "data": {
      "text/html": [
       "<pre style=\"white-space:pre;overflow-x:auto;line-height:normal;font-family:Menlo,'DejaVu Sans Mono',consolas,'Courier New',monospace\"><span style=\"color: #7fbfbf; text-decoration-color: #7fbfbf\">[02/25/25 10:32:40] </span><span style=\"color: #000080; text-decoration-color: #000080\">INFO    </span> Using                                                                  <a href=\"file://c:\\Users\\jonas\\Documents\\Projects\\lithuania-election-results\\.venv\\Lib\\site-packages\\kedro\\framework\\project\\__init__.py\" target=\"_blank\"><span style=\"color: #7f7f7f; text-decoration-color: #7f7f7f\">__init__.py</span></a><span style=\"color: #7f7f7f; text-decoration-color: #7f7f7f\">:</span><a href=\"file://c:\\Users\\jonas\\Documents\\Projects\\lithuania-election-results\\.venv\\Lib\\site-packages\\kedro\\framework\\project\\__init__.py#270\" target=\"_blank\"><span style=\"color: #7f7f7f; text-decoration-color: #7f7f7f\">270</span></a>\n",
       "<span style=\"color: #7fbfbf; text-decoration-color: #7fbfbf\">                    </span>         <span style=\"color: #008000; text-decoration-color: #008000\">'c:\\Users\\jonas\\Documents\\Projects\\lithuania-election-results\\.venv\\Li</span> <span style=\"color: #7f7f7f; text-decoration-color: #7f7f7f\">               </span>\n",
       "<span style=\"color: #7fbfbf; text-decoration-color: #7fbfbf\">                    </span>         <span style=\"color: #008000; text-decoration-color: #008000\">b\\site-packages\\kedro\\framework\\project\\rich_logging.yml'</span> as logging   <span style=\"color: #7f7f7f; text-decoration-color: #7f7f7f\">               </span>\n",
       "<span style=\"color: #7fbfbf; text-decoration-color: #7fbfbf\">                    </span>         configuration.                                                         <span style=\"color: #7f7f7f; text-decoration-color: #7f7f7f\">               </span>\n",
       "</pre>\n"
      ],
      "text/plain": [
       "\u001b[2;36m[02/25/25 10:32:40]\u001b[0m\u001b[2;36m \u001b[0m\u001b[34mINFO    \u001b[0m Using                                                                  \u001b]8;id=249666;file://c:\\Users\\jonas\\Documents\\Projects\\lithuania-election-results\\.venv\\Lib\\site-packages\\kedro\\framework\\project\\__init__.py\u001b\\\u001b[2m__init__.py\u001b[0m\u001b]8;;\u001b\\\u001b[2m:\u001b[0m\u001b]8;id=167687;file://c:\\Users\\jonas\\Documents\\Projects\\lithuania-election-results\\.venv\\Lib\\site-packages\\kedro\\framework\\project\\__init__.py#270\u001b\\\u001b[2m270\u001b[0m\u001b]8;;\u001b\\\n",
       "\u001b[2;36m                    \u001b[0m         \u001b[32m'c:\\Users\\jonas\\Documents\\Projects\\lithuania-election-results\\.venv\\Li\u001b[0m \u001b[2m               \u001b[0m\n",
       "\u001b[2;36m                    \u001b[0m         \u001b[32mb\\site-packages\\kedro\\framework\\project\\rich_logging.yml'\u001b[0m as logging   \u001b[2m               \u001b[0m\n",
       "\u001b[2;36m                    \u001b[0m         configuration.                                                         \u001b[2m               \u001b[0m\n"
      ]
     },
     "metadata": {},
     "output_type": "display_data"
    },
    {
     "data": {
      "text/html": [
       "<pre style=\"white-space:pre;overflow-x:auto;line-height:normal;font-family:Menlo,'DejaVu Sans Mono',consolas,'Courier New',monospace\"><span style=\"color: #7fbfbf; text-decoration-color: #7fbfbf\">                    </span><span style=\"color: #000080; text-decoration-color: #000080\">INFO    </span> Registered line magic <span style=\"color: #008000; text-decoration-color: #008000\">'%reload_kedro'</span>                                   <a href=\"file://c:\\Users\\jonas\\Documents\\Projects\\lithuania-election-results\\.venv\\Lib\\site-packages\\kedro\\ipython\\__init__.py\" target=\"_blank\"><span style=\"color: #7f7f7f; text-decoration-color: #7f7f7f\">__init__.py</span></a><span style=\"color: #7f7f7f; text-decoration-color: #7f7f7f\">:</span><a href=\"file://c:\\Users\\jonas\\Documents\\Projects\\lithuania-election-results\\.venv\\Lib\\site-packages\\kedro\\ipython\\__init__.py#61\" target=\"_blank\"><span style=\"color: #7f7f7f; text-decoration-color: #7f7f7f\">61</span></a>\n",
       "</pre>\n"
      ],
      "text/plain": [
       "\u001b[2;36m                   \u001b[0m\u001b[2;36m \u001b[0m\u001b[34mINFO    \u001b[0m Registered line magic \u001b[32m'%reload_kedro'\u001b[0m                                   \u001b]8;id=40586;file://c:\\Users\\jonas\\Documents\\Projects\\lithuania-election-results\\.venv\\Lib\\site-packages\\kedro\\ipython\\__init__.py\u001b\\\u001b[2m__init__.py\u001b[0m\u001b]8;;\u001b\\\u001b[2m:\u001b[0m\u001b]8;id=844903;file://c:\\Users\\jonas\\Documents\\Projects\\lithuania-election-results\\.venv\\Lib\\site-packages\\kedro\\ipython\\__init__.py#61\u001b\\\u001b[2m61\u001b[0m\u001b]8;;\u001b\\\n"
      ]
     },
     "metadata": {},
     "output_type": "display_data"
    },
    {
     "data": {
      "text/html": [
       "<pre style=\"white-space:pre;overflow-x:auto;line-height:normal;font-family:Menlo,'DejaVu Sans Mono',consolas,'Courier New',monospace\"><span style=\"color: #7fbfbf; text-decoration-color: #7fbfbf\">                    </span><span style=\"color: #000080; text-decoration-color: #000080\">INFO    </span> Registered line magic <span style=\"color: #008000; text-decoration-color: #008000\">'%load_node'</span>                                      <a href=\"file://c:\\Users\\jonas\\Documents\\Projects\\lithuania-election-results\\.venv\\Lib\\site-packages\\kedro\\ipython\\__init__.py\" target=\"_blank\"><span style=\"color: #7f7f7f; text-decoration-color: #7f7f7f\">__init__.py</span></a><span style=\"color: #7f7f7f; text-decoration-color: #7f7f7f\">:</span><a href=\"file://c:\\Users\\jonas\\Documents\\Projects\\lithuania-election-results\\.venv\\Lib\\site-packages\\kedro\\ipython\\__init__.py#63\" target=\"_blank\"><span style=\"color: #7f7f7f; text-decoration-color: #7f7f7f\">63</span></a>\n",
       "</pre>\n"
      ],
      "text/plain": [
       "\u001b[2;36m                   \u001b[0m\u001b[2;36m \u001b[0m\u001b[34mINFO    \u001b[0m Registered line magic \u001b[32m'%load_node'\u001b[0m                                      \u001b]8;id=954724;file://c:\\Users\\jonas\\Documents\\Projects\\lithuania-election-results\\.venv\\Lib\\site-packages\\kedro\\ipython\\__init__.py\u001b\\\u001b[2m__init__.py\u001b[0m\u001b]8;;\u001b\\\u001b[2m:\u001b[0m\u001b]8;id=112458;file://c:\\Users\\jonas\\Documents\\Projects\\lithuania-election-results\\.venv\\Lib\\site-packages\\kedro\\ipython\\__init__.py#63\u001b\\\u001b[2m63\u001b[0m\u001b]8;;\u001b\\\n"
      ]
     },
     "metadata": {},
     "output_type": "display_data"
    },
    {
     "data": {
      "text/html": [
       "<pre style=\"white-space:pre;overflow-x:auto;line-height:normal;font-family:Menlo,'DejaVu Sans Mono',consolas,'Courier New',monospace\"><span style=\"color: #7fbfbf; text-decoration-color: #7fbfbf\">                    </span><span style=\"color: #000080; text-decoration-color: #000080\">INFO    </span> Resolved project path as:                                              <a href=\"file://c:\\Users\\jonas\\Documents\\Projects\\lithuania-election-results\\.venv\\Lib\\site-packages\\kedro\\ipython\\__init__.py\" target=\"_blank\"><span style=\"color: #7f7f7f; text-decoration-color: #7f7f7f\">__init__.py</span></a><span style=\"color: #7f7f7f; text-decoration-color: #7f7f7f\">:</span><a href=\"file://c:\\Users\\jonas\\Documents\\Projects\\lithuania-election-results\\.venv\\Lib\\site-packages\\kedro\\ipython\\__init__.py#178\" target=\"_blank\"><span style=\"color: #7f7f7f; text-decoration-color: #7f7f7f\">178</span></a>\n",
       "<span style=\"color: #7fbfbf; text-decoration-color: #7fbfbf\">                    </span>         c:\\Users\\jonas\\Documents\\Projects\\lithuania-election-results.          <span style=\"color: #7f7f7f; text-decoration-color: #7f7f7f\">               </span>\n",
       "<span style=\"color: #7fbfbf; text-decoration-color: #7fbfbf\">                    </span>         To set a different path, run <span style=\"color: #008000; text-decoration-color: #008000\">'%reload_kedro &lt;project_root&gt;'</span>            <span style=\"color: #7f7f7f; text-decoration-color: #7f7f7f\">               </span>\n",
       "</pre>\n"
      ],
      "text/plain": [
       "\u001b[2;36m                   \u001b[0m\u001b[2;36m \u001b[0m\u001b[34mINFO    \u001b[0m Resolved project path as:                                              \u001b]8;id=220496;file://c:\\Users\\jonas\\Documents\\Projects\\lithuania-election-results\\.venv\\Lib\\site-packages\\kedro\\ipython\\__init__.py\u001b\\\u001b[2m__init__.py\u001b[0m\u001b]8;;\u001b\\\u001b[2m:\u001b[0m\u001b]8;id=546420;file://c:\\Users\\jonas\\Documents\\Projects\\lithuania-election-results\\.venv\\Lib\\site-packages\\kedro\\ipython\\__init__.py#178\u001b\\\u001b[2m178\u001b[0m\u001b]8;;\u001b\\\n",
       "\u001b[2;36m                    \u001b[0m         c:\\Users\\jonas\\Documents\\Projects\\lithuania-election-results.          \u001b[2m               \u001b[0m\n",
       "\u001b[2;36m                    \u001b[0m         To set a different path, run \u001b[32m'%reload_kedro \u001b[0m\u001b[32m<\u001b[0m\u001b[32mproject_root\u001b[0m\u001b[32m>\u001b[0m\u001b[32m'\u001b[0m            \u001b[2m               \u001b[0m\n"
      ]
     },
     "metadata": {},
     "output_type": "display_data"
    },
    {
     "data": {
      "text/html": [
       "<pre style=\"white-space:pre;overflow-x:auto;line-height:normal;font-family:Menlo,'DejaVu Sans Mono',consolas,'Courier New',monospace\"><span style=\"color: #7fbfbf; text-decoration-color: #7fbfbf\">[02/25/25 10:32:48] </span><span style=\"color: #000080; text-decoration-color: #000080\">INFO    </span> Kedro is sending anonymous usage data with the sole purpose of improving <a href=\"file://c:\\Users\\jonas\\Documents\\Projects\\lithuania-election-results\\.venv\\Lib\\site-packages\\kedro_telemetry\\plugin.py\" target=\"_blank\"><span style=\"color: #7f7f7f; text-decoration-color: #7f7f7f\">plugin.py</span></a><span style=\"color: #7f7f7f; text-decoration-color: #7f7f7f\">:</span><a href=\"file://c:\\Users\\jonas\\Documents\\Projects\\lithuania-election-results\\.venv\\Lib\\site-packages\\kedro_telemetry\\plugin.py#233\" target=\"_blank\"><span style=\"color: #7f7f7f; text-decoration-color: #7f7f7f\">233</span></a>\n",
       "<span style=\"color: #7fbfbf; text-decoration-color: #7fbfbf\">                    </span>         the product. No personal data or IP addresses are stored on our side. If <span style=\"color: #7f7f7f; text-decoration-color: #7f7f7f\">             </span>\n",
       "<span style=\"color: #7fbfbf; text-decoration-color: #7fbfbf\">                    </span>         you want to opt out, set the `KEDRO_DISABLE_TELEMETRY` or `DO_NOT_TRACK` <span style=\"color: #7f7f7f; text-decoration-color: #7f7f7f\">             </span>\n",
       "<span style=\"color: #7fbfbf; text-decoration-color: #7fbfbf\">                    </span>         environment variables, or create a `.telemetry` file in the current      <span style=\"color: #7f7f7f; text-decoration-color: #7f7f7f\">             </span>\n",
       "<span style=\"color: #7fbfbf; text-decoration-color: #7fbfbf\">                    </span>         working directory with the contents `consent: false`. Read more at       <span style=\"color: #7f7f7f; text-decoration-color: #7f7f7f\">             </span>\n",
       "<span style=\"color: #7fbfbf; text-decoration-color: #7fbfbf\">                    </span>         <span style=\"color: #0000ff; text-decoration-color: #0000ff; text-decoration: underline\">https://docs.kedro.org/en/stable/configuration/telemetry.html</span>            <span style=\"color: #7f7f7f; text-decoration-color: #7f7f7f\">             </span>\n",
       "</pre>\n"
      ],
      "text/plain": [
       "\u001b[2;36m[02/25/25 10:32:48]\u001b[0m\u001b[2;36m \u001b[0m\u001b[34mINFO    \u001b[0m Kedro is sending anonymous usage data with the sole purpose of improving \u001b]8;id=588384;file://c:\\Users\\jonas\\Documents\\Projects\\lithuania-election-results\\.venv\\Lib\\site-packages\\kedro_telemetry\\plugin.py\u001b\\\u001b[2mplugin.py\u001b[0m\u001b]8;;\u001b\\\u001b[2m:\u001b[0m\u001b]8;id=677920;file://c:\\Users\\jonas\\Documents\\Projects\\lithuania-election-results\\.venv\\Lib\\site-packages\\kedro_telemetry\\plugin.py#233\u001b\\\u001b[2m233\u001b[0m\u001b]8;;\u001b\\\n",
       "\u001b[2;36m                    \u001b[0m         the product. No personal data or IP addresses are stored on our side. If \u001b[2m             \u001b[0m\n",
       "\u001b[2;36m                    \u001b[0m         you want to opt out, set the `KEDRO_DISABLE_TELEMETRY` or `DO_NOT_TRACK` \u001b[2m             \u001b[0m\n",
       "\u001b[2;36m                    \u001b[0m         environment variables, or create a `.telemetry` file in the current      \u001b[2m             \u001b[0m\n",
       "\u001b[2;36m                    \u001b[0m         working directory with the contents `consent: false`. Read more at       \u001b[2m             \u001b[0m\n",
       "\u001b[2;36m                    \u001b[0m         \u001b[4;94mhttps://docs.kedro.org/en/stable/configuration/telemetry.html\u001b[0m            \u001b[2m             \u001b[0m\n"
      ]
     },
     "metadata": {},
     "output_type": "display_data"
    },
    {
     "data": {
      "text/html": [
       "<pre style=\"white-space:pre;overflow-x:auto;line-height:normal;font-family:Menlo,'DejaVu Sans Mono',consolas,'Courier New',monospace\"><span style=\"color: #7fbfbf; text-decoration-color: #7fbfbf\">[02/25/25 10:32:49] </span><span style=\"color: #000080; text-decoration-color: #000080\">INFO    </span> Kedro project lithuania-election-results                               <a href=\"file://c:\\Users\\jonas\\Documents\\Projects\\lithuania-election-results\\.venv\\Lib\\site-packages\\kedro\\ipython\\__init__.py\" target=\"_blank\"><span style=\"color: #7f7f7f; text-decoration-color: #7f7f7f\">__init__.py</span></a><span style=\"color: #7f7f7f; text-decoration-color: #7f7f7f\">:</span><a href=\"file://c:\\Users\\jonas\\Documents\\Projects\\lithuania-election-results\\.venv\\Lib\\site-packages\\kedro\\ipython\\__init__.py#144\" target=\"_blank\"><span style=\"color: #7f7f7f; text-decoration-color: #7f7f7f\">144</span></a>\n",
       "</pre>\n"
      ],
      "text/plain": [
       "\u001b[2;36m[02/25/25 10:32:49]\u001b[0m\u001b[2;36m \u001b[0m\u001b[34mINFO    \u001b[0m Kedro project lithuania-election-results                               \u001b]8;id=994026;file://c:\\Users\\jonas\\Documents\\Projects\\lithuania-election-results\\.venv\\Lib\\site-packages\\kedro\\ipython\\__init__.py\u001b\\\u001b[2m__init__.py\u001b[0m\u001b]8;;\u001b\\\u001b[2m:\u001b[0m\u001b]8;id=576708;file://c:\\Users\\jonas\\Documents\\Projects\\lithuania-election-results\\.venv\\Lib\\site-packages\\kedro\\ipython\\__init__.py#144\u001b\\\u001b[2m144\u001b[0m\u001b]8;;\u001b\\\n"
      ]
     },
     "metadata": {},
     "output_type": "display_data"
    },
    {
     "data": {
      "text/html": [
       "<pre style=\"white-space:pre;overflow-x:auto;line-height:normal;font-family:Menlo,'DejaVu Sans Mono',consolas,'Courier New',monospace\"><span style=\"color: #7fbfbf; text-decoration-color: #7fbfbf\">                    </span><span style=\"color: #000080; text-decoration-color: #000080\">INFO    </span> Defined global variable <span style=\"color: #008000; text-decoration-color: #008000\">'context'</span>, <span style=\"color: #008000; text-decoration-color: #008000\">'session'</span>, <span style=\"color: #008000; text-decoration-color: #008000\">'catalog'</span> and            <a href=\"file://c:\\Users\\jonas\\Documents\\Projects\\lithuania-election-results\\.venv\\Lib\\site-packages\\kedro\\ipython\\__init__.py\" target=\"_blank\"><span style=\"color: #7f7f7f; text-decoration-color: #7f7f7f\">__init__.py</span></a><span style=\"color: #7f7f7f; text-decoration-color: #7f7f7f\">:</span><a href=\"file://c:\\Users\\jonas\\Documents\\Projects\\lithuania-election-results\\.venv\\Lib\\site-packages\\kedro\\ipython\\__init__.py#145\" target=\"_blank\"><span style=\"color: #7f7f7f; text-decoration-color: #7f7f7f\">145</span></a>\n",
       "<span style=\"color: #7fbfbf; text-decoration-color: #7fbfbf\">                    </span>         <span style=\"color: #008000; text-decoration-color: #008000\">'pipelines'</span>                                                            <span style=\"color: #7f7f7f; text-decoration-color: #7f7f7f\">               </span>\n",
       "</pre>\n"
      ],
      "text/plain": [
       "\u001b[2;36m                   \u001b[0m\u001b[2;36m \u001b[0m\u001b[34mINFO    \u001b[0m Defined global variable \u001b[32m'context'\u001b[0m, \u001b[32m'session'\u001b[0m, \u001b[32m'catalog'\u001b[0m and            \u001b]8;id=794786;file://c:\\Users\\jonas\\Documents\\Projects\\lithuania-election-results\\.venv\\Lib\\site-packages\\kedro\\ipython\\__init__.py\u001b\\\u001b[2m__init__.py\u001b[0m\u001b]8;;\u001b\\\u001b[2m:\u001b[0m\u001b]8;id=838527;file://c:\\Users\\jonas\\Documents\\Projects\\lithuania-election-results\\.venv\\Lib\\site-packages\\kedro\\ipython\\__init__.py#145\u001b\\\u001b[2m145\u001b[0m\u001b]8;;\u001b\\\n",
       "\u001b[2;36m                    \u001b[0m         \u001b[32m'pipelines'\u001b[0m                                                            \u001b[2m               \u001b[0m\n"
      ]
     },
     "metadata": {},
     "output_type": "display_data"
    },
    {
     "data": {
      "text/html": [
       "<pre style=\"white-space:pre;overflow-x:auto;line-height:normal;font-family:Menlo,'DejaVu Sans Mono',consolas,'Courier New',monospace\"><span style=\"color: #7fbfbf; text-decoration-color: #7fbfbf\">[02/25/25 10:32:51] </span><span style=\"color: #000080; text-decoration-color: #000080\">INFO    </span> Registered line magic <span style=\"color: #008000; text-decoration-color: #008000\">'run_viz'</span>                                        <a href=\"file://c:\\Users\\jonas\\Documents\\Projects\\lithuania-election-results\\.venv\\Lib\\site-packages\\kedro\\ipython\\__init__.py\" target=\"_blank\"><span style=\"color: #7f7f7f; text-decoration-color: #7f7f7f\">__init__.py</span></a><span style=\"color: #7f7f7f; text-decoration-color: #7f7f7f\">:</span><a href=\"file://c:\\Users\\jonas\\Documents\\Projects\\lithuania-election-results\\.venv\\Lib\\site-packages\\kedro\\ipython\\__init__.py#151\" target=\"_blank\"><span style=\"color: #7f7f7f; text-decoration-color: #7f7f7f\">151</span></a>\n",
       "</pre>\n"
      ],
      "text/plain": [
       "\u001b[2;36m[02/25/25 10:32:51]\u001b[0m\u001b[2;36m \u001b[0m\u001b[34mINFO    \u001b[0m Registered line magic \u001b[32m'run_viz'\u001b[0m                                        \u001b]8;id=758546;file://c:\\Users\\jonas\\Documents\\Projects\\lithuania-election-results\\.venv\\Lib\\site-packages\\kedro\\ipython\\__init__.py\u001b\\\u001b[2m__init__.py\u001b[0m\u001b]8;;\u001b\\\u001b[2m:\u001b[0m\u001b]8;id=435042;file://c:\\Users\\jonas\\Documents\\Projects\\lithuania-election-results\\.venv\\Lib\\site-packages\\kedro\\ipython\\__init__.py#151\u001b\\\u001b[2m151\u001b[0m\u001b]8;;\u001b\\\n"
      ]
     },
     "metadata": {},
     "output_type": "display_data"
    }
   ],
   "source": [
    "%reload_ext kedro.ipython"
   ]
  },
  {
   "cell_type": "markdown",
   "metadata": {},
   "source": [
    "# Elections\n",
    "\n",
    "Parliamentary elections in Lithuania as explained by Wikipedia:\n",
    "\n",
    "\"Seventy-one of the members in the 141-seat parliament, elected to a four-year term, are elected in single-seat constituencies, in a majority vote. The remaining 70 members are elected in a nationwide election based on proportional representation.\"\n",
    "\n",
    "We will look at the proportional representation voting. When participating voters are given a balot containing the list of available parties and five slots for what are called primary votes. A voter is expected to choose one party and cast primary votes for up to 5 candidates from that party that they want to see in the parliament. Which parties are elected to the parliament is only dependent on the party choice votes, however which specific candidates from that party are elected is up to the primary votes. \n",
    "\n",
    "We can do a quick simulation of this. Lets say 5 voters vote for party A, first one casts no primary votes, next one only writes in 1, next writes in 1,2,3,4,5, next writes in 3,8,11,99 and the last voter 3, 20, 55. We can see that 13 primary votes were cast, candidate number 1 got 2 votes, candidate 2 got 1 vote, candidate 3 got 3 votes and so on. If this party got seats in the parliament candidate number 3 would get the seat as he got most votes, next if seats are available 1 gets a seat and so on. What is worth noting is that that the total number of primary votes is a random variable bound between zero on 5 * total number of votes.\n",
    "\n",
    "Each person chooses the number of primary votes to cast between zero and 5, though each choice is random in aggregate we expect the primary votes to converge to some sort of distribution where seeing many people casting no or all possible primary votes is rare.\n",
    "\n"
   ]
  },
  {
   "cell_type": "markdown",
   "metadata": {},
   "source": [
    "# Cheating \n",
    "\n",
    "A possible form of cheating in this format is the adding of primary votes to not fully filled ballots. In the previous example only one ballot was fully filled, now lets assume that the people counting the votes in a precint collaborate to help a certain candidate get more primary votes and thus get pushed higher up the list when members of parliament are chosen. In this example lets assume this is candidate number 9, he got no primary votes and thus his election would be over, however the members of the precinct add this candidate wherever possible thus getting us these ballots: 9; 1,9; 1,2,3,4,5; 3,8,11,99,9; 3,20,55,9. Now candidate number 9 has 4 primary votes and is confortably in the lead. One clue is left of this cheating though: the total number of primary votes has gone up from 13 to 17."
   ]
  },
  {
   "cell_type": "markdown",
   "metadata": {},
   "source": [
    "# Dataset\n",
    "\n",
    "All votes are cast in precincts, each presinct is associated with a constituency. In total there are 71 constituencies and 1947 precincts. The dataset has the total number of votes, and the total number of primary votes for each party in each precinct, with 15 parties this gives 15*1947 = 29205 lines in the dataset. A column 'rate' is added that represents the average number of primary votes for each ballot cast."
   ]
  },
  {
   "cell_type": "markdown",
   "metadata": {},
   "source": [
    "# Definitions and notebook use\n",
    "\n",
    "In the analysis below precincts are called apylinke, constituencies are named apygarda, primary votes are called pirm votes.\n",
    "\n",
    "A user might also notice that the apylinke and apydargda names are not used instead lines like this are presented: rezultataiDaugmRpl_rpgId-24094_rplId-716502.html\n",
    "\n",
    "This is left for ease of use, the user can type this into a web browser search bar:\n",
    "\n",
    "* https://www.vrk.lt/2024-seimo/rezultatai?srcUrl=/rinkimai/1544/1/2150/rezultatai/lt/\n",
    "\n",
    "Add the mentioned phrase to it:\n",
    "\n",
    "* https://www.vrk.lt/2024-seimo/rezultatai?srcUrl=/rinkimai/1544/1/2150/rezultatai/lt/rezultataiDaugmRpl_rpgId-24094_rplId-716502.html\n",
    "\n",
    "To get a working link to vrk.lt page from where the data is obtained."
   ]
  },
  {
   "cell_type": "markdown",
   "metadata": {},
   "source": [
    "# Analysis"
   ]
  },
  {
   "cell_type": "markdown",
   "metadata": {},
   "source": [
    "## get data"
   ]
  },
  {
   "cell_type": "code",
   "execution_count": 24,
   "metadata": {},
   "outputs": [
    {
     "data": {
      "text/html": [
       "<pre style=\"white-space:pre;overflow-x:auto;line-height:normal;font-family:Menlo,'DejaVu Sans Mono',consolas,'Courier New',monospace\"><span style=\"color: #7fbfbf; text-decoration-color: #7fbfbf\">[2/25/2025 10:43:54 AM] </span><span style=\"color: #000080; text-decoration-color: #000080\">INFO    </span> Loading data from <span style=\"color: #ff8700; text-decoration-color: #ff8700\">all_total_pirm_votes_by_apylinke</span>             <a href=\"file://c:\\Users\\jonas\\Documents\\Projects\\lithuania-election-results\\.venv\\Lib\\site-packages\\kedro\\io\\data_catalog.py\" target=\"_blank\"><span style=\"color: #7f7f7f; text-decoration-color: #7f7f7f\">data_catalog.py</span></a><span style=\"color: #7f7f7f; text-decoration-color: #7f7f7f\">:</span><a href=\"file://c:\\Users\\jonas\\Documents\\Projects\\lithuania-election-results\\.venv\\Lib\\site-packages\\kedro\\io\\data_catalog.py#389\" target=\"_blank\"><span style=\"color: #7f7f7f; text-decoration-color: #7f7f7f\">389</span></a>\n",
       "<span style=\"color: #7fbfbf; text-decoration-color: #7fbfbf\">                        </span>         <span style=\"font-weight: bold\">(</span>PickleDataset<span style=\"font-weight: bold\">)</span><span style=\"color: #808000; text-decoration-color: #808000\">...</span>                                             <span style=\"color: #7f7f7f; text-decoration-color: #7f7f7f\">                   </span>\n",
       "</pre>\n"
      ],
      "text/plain": [
       "\u001b[2;36m[2/25/2025 10:43:54 AM]\u001b[0m\u001b[2;36m \u001b[0m\u001b[34mINFO    \u001b[0m Loading data from \u001b[38;5;208mall_total_pirm_votes_by_apylinke\u001b[0m             \u001b]8;id=384869;file://c:\\Users\\jonas\\Documents\\Projects\\lithuania-election-results\\.venv\\Lib\\site-packages\\kedro\\io\\data_catalog.py\u001b\\\u001b[2mdata_catalog.py\u001b[0m\u001b]8;;\u001b\\\u001b[2m:\u001b[0m\u001b]8;id=757429;file://c:\\Users\\jonas\\Documents\\Projects\\lithuania-election-results\\.venv\\Lib\\site-packages\\kedro\\io\\data_catalog.py#389\u001b\\\u001b[2m389\u001b[0m\u001b]8;;\u001b\\\n",
       "\u001b[2;36m                        \u001b[0m         \u001b[1m(\u001b[0mPickleDataset\u001b[1m)\u001b[0m\u001b[33m...\u001b[0m                                             \u001b[2m                   \u001b[0m\n"
      ]
     },
     "metadata": {},
     "output_type": "display_data"
    },
    {
     "data": {
      "text/html": [
       "<pre style=\"white-space:pre;overflow-x:auto;line-height:normal;font-family:Menlo,'DejaVu Sans Mono',consolas,'Courier New',monospace\"></pre>\n"
      ],
      "text/plain": []
     },
     "metadata": {},
     "output_type": "display_data"
    },
    {
     "data": {
      "application/vnd.microsoft.datawrangler.viewer.v0+json": {
       "columns": [
        {
         "name": "index",
         "rawType": "int64",
         "type": "integer"
        },
        {
         "name": "apygarda",
         "rawType": "object",
         "type": "string"
        },
        {
         "name": "apylinke",
         "rawType": "object",
         "type": "string"
        },
        {
         "name": "VRK_nr",
         "rawType": "int64",
         "type": "integer"
        },
        {
         "name": "party_name",
         "rawType": "object",
         "type": "string"
        },
        {
         "name": "total_apylinke_votes",
         "rawType": "int64",
         "type": "integer"
        },
        {
         "name": "total_pirm_votes",
         "rawType": "float64",
         "type": "float"
        },
        {
         "name": "rate",
         "rawType": "float64",
         "type": "float"
        }
       ],
       "conversionMethod": "pd.DataFrame",
       "ref": "af576591-cc53-4949-9e07-9b8de10feda9",
       "rows": [
        [
         "0",
         "rezultataiDaugmRpg_rpgId-24100.html",
         "rezultataiDaugmRpl_rpgId-24100_rplId-715986.html",
         "3",
         "Lietuvos socialdemokratų partija",
         "238",
         "652.0",
         "2.7394957983193278"
        ],
        [
         "1",
         "rezultataiDaugmRpg_rpgId-24100.html",
         "rezultataiDaugmRpl_rpgId-24100_rplId-715986.html",
         "13",
         "Tėvynės sąjunga-Lietuvos krikščionys demokratai",
         "373",
         "1278.0",
         "3.4262734584450403"
        ],
        [
         "2",
         "rezultataiDaugmRpg_rpgId-24100.html",
         "rezultataiDaugmRpl_rpgId-24100_rplId-715986.html",
         "12",
         "Politinė partija „Nemuno Aušra“",
         "182",
         "505.0",
         "2.7747252747252746"
        ],
        [
         "3",
         "rezultataiDaugmRpg_rpgId-24100.html",
         "rezultataiDaugmRpl_rpgId-24100_rplId-715986.html",
         "11",
         "Demokratų sąjunga „Vardan Lietuvos“",
         "166",
         "492.0",
         "2.963855421686747"
        ],
        [
         "4",
         "rezultataiDaugmRpg_rpgId-24100.html",
         "rezultataiDaugmRpl_rpgId-24100_rplId-715986.html",
         "14",
         "Liberalų sąjūdis",
         "128",
         "393.0",
         "3.0703125"
        ],
        [
         "5",
         "rezultataiDaugmRpg_rpgId-24100.html",
         "rezultataiDaugmRpl_rpgId-24100_rplId-715986.html",
         "8",
         "Lietuvos valstiečių ir žaliųjų sąjunga",
         "84",
         "342.0",
         "4.071428571428571"
        ],
        [
         "6",
         "rezultataiDaugmRpg_rpgId-24100.html",
         "rezultataiDaugmRpl_rpgId-24100_rplId-715986.html",
         "16",
         "Laisvės partija",
         "97",
         "330.0",
         "3.402061855670103"
        ],
        [
         "7",
         "rezultataiDaugmRpg_rpgId-24100.html",
         "rezultataiDaugmRpl_rpgId-24100_rplId-715986.html",
         "17",
         "Lietuvos lenkų rinkimų akcija-Krikščioniškų šeimų sąjunga",
         "170",
         "530.0",
         "3.1176470588235294"
        ],
        [
         "8",
         "rezultataiDaugmRpg_rpgId-24100.html",
         "rezultataiDaugmRpl_rpgId-24100_rplId-715986.html",
         "2",
         "Nacionalinis susivienijimas",
         "62",
         "158.0",
         "2.5483870967741935"
        ],
        [
         "9",
         "rezultataiDaugmRpg_rpgId-24100.html",
         "rezultataiDaugmRpl_rpgId-24100_rplId-715986.html",
         "5",
         "Lietuvos liaudies partija",
         "72",
         "135.0",
         "1.875"
        ],
        [
         "10",
         "rezultataiDaugmRpg_rpgId-24100.html",
         "rezultataiDaugmRpl_rpgId-24100_rplId-715986.html",
         "9",
         "Taikos koalicija (Darbo partija, Lietuvos krikščioniškosios demokratijos partija, Žemaičių partija)",
         "56",
         "153.0",
         "2.732142857142857"
        ],
        [
         "11",
         "rezultataiDaugmRpg_rpgId-24100.html",
         "rezultataiDaugmRpl_rpgId-24100_rplId-715986.html",
         "6",
         "Lietuvos regionų partija",
         "26",
         "60.0",
         "2.3076923076923075"
        ],
        [
         "12",
         "rezultataiDaugmRpg_rpgId-24100.html",
         "rezultataiDaugmRpl_rpgId-24100_rplId-715986.html",
         "4",
         "Lietuvos žaliųjų partija",
         "22",
         "43.0",
         "1.9545454545454546"
        ],
        [
         "13",
         "rezultataiDaugmRpg_rpgId-24100.html",
         "rezultataiDaugmRpl_rpgId-24100_rplId-715986.html",
         "1",
         "Tautos ir teisingumo sąjunga (centristai, tautininkai)",
         "16",
         "45.0",
         "2.8125"
        ],
        [
         "14",
         "rezultataiDaugmRpg_rpgId-24100.html",
         "rezultataiDaugmRpl_rpgId-24100_rplId-715986.html",
         "10",
         "Partija „Laisvė ir teisingumas“",
         "28",
         "66.0",
         "2.357142857142857"
        ],
        [
         "15",
         "rezultataiDaugmRpg_rpgId-24100.html",
         "rezultataiDaugmRpl_rpgId-24100_rplId-715840.html",
         "3",
         "Lietuvos socialdemokratų partija",
         "221",
         "574.0",
         "2.5972850678733033"
        ],
        [
         "16",
         "rezultataiDaugmRpg_rpgId-24100.html",
         "rezultataiDaugmRpl_rpgId-24100_rplId-715840.html",
         "13",
         "Tėvynės sąjunga-Lietuvos krikščionys demokratai",
         "385",
         "1278.0",
         "3.3194805194805195"
        ],
        [
         "17",
         "rezultataiDaugmRpg_rpgId-24100.html",
         "rezultataiDaugmRpl_rpgId-24100_rplId-715840.html",
         "12",
         "Politinė partija „Nemuno Aušra“",
         "183",
         "397.0",
         "2.169398907103825"
        ],
        [
         "18",
         "rezultataiDaugmRpg_rpgId-24100.html",
         "rezultataiDaugmRpl_rpgId-24100_rplId-715840.html",
         "11",
         "Demokratų sąjunga „Vardan Lietuvos“",
         "171",
         "475.0",
         "2.7777777777777777"
        ],
        [
         "19",
         "rezultataiDaugmRpg_rpgId-24100.html",
         "rezultataiDaugmRpl_rpgId-24100_rplId-715840.html",
         "14",
         "Liberalų sąjūdis",
         "143",
         "376.0",
         "2.629370629370629"
        ],
        [
         "20",
         "rezultataiDaugmRpg_rpgId-24100.html",
         "rezultataiDaugmRpl_rpgId-24100_rplId-715840.html",
         "8",
         "Lietuvos valstiečių ir žaliųjų sąjunga",
         "75",
         "224.0",
         "2.986666666666667"
        ],
        [
         "21",
         "rezultataiDaugmRpg_rpgId-24100.html",
         "rezultataiDaugmRpl_rpgId-24100_rplId-715840.html",
         "16",
         "Laisvės partija",
         "105",
         "360.0",
         "3.4285714285714284"
        ],
        [
         "22",
         "rezultataiDaugmRpg_rpgId-24100.html",
         "rezultataiDaugmRpl_rpgId-24100_rplId-715840.html",
         "17",
         "Lietuvos lenkų rinkimų akcija-Krikščioniškų šeimų sąjunga",
         "149",
         "415.0",
         "2.785234899328859"
        ],
        [
         "23",
         "rezultataiDaugmRpg_rpgId-24100.html",
         "rezultataiDaugmRpl_rpgId-24100_rplId-715840.html",
         "2",
         "Nacionalinis susivienijimas",
         "77",
         "245.0",
         "3.1818181818181817"
        ],
        [
         "24",
         "rezultataiDaugmRpg_rpgId-24100.html",
         "rezultataiDaugmRpl_rpgId-24100_rplId-715840.html",
         "5",
         "Lietuvos liaudies partija",
         "64",
         "136.0",
         "2.125"
        ],
        [
         "25",
         "rezultataiDaugmRpg_rpgId-24100.html",
         "rezultataiDaugmRpl_rpgId-24100_rplId-715840.html",
         "9",
         "Taikos koalicija (Darbo partija, Lietuvos krikščioniškosios demokratijos partija, Žemaičių partija)",
         "38",
         "99.0",
         "2.6052631578947367"
        ],
        [
         "26",
         "rezultataiDaugmRpg_rpgId-24100.html",
         "rezultataiDaugmRpl_rpgId-24100_rplId-715840.html",
         "6",
         "Lietuvos regionų partija",
         "24",
         "67.0",
         "2.7916666666666665"
        ],
        [
         "27",
         "rezultataiDaugmRpg_rpgId-24100.html",
         "rezultataiDaugmRpl_rpgId-24100_rplId-715840.html",
         "4",
         "Lietuvos žaliųjų partija",
         "33",
         "60.0",
         "1.8181818181818181"
        ],
        [
         "28",
         "rezultataiDaugmRpg_rpgId-24100.html",
         "rezultataiDaugmRpl_rpgId-24100_rplId-715840.html",
         "1",
         "Tautos ir teisingumo sąjunga (centristai, tautininkai)",
         "13",
         "45.0",
         "3.4615384615384617"
        ],
        [
         "29",
         "rezultataiDaugmRpg_rpgId-24100.html",
         "rezultataiDaugmRpl_rpgId-24100_rplId-715840.html",
         "10",
         "Partija „Laisvė ir teisingumas“",
         "19",
         "46.0",
         "2.4210526315789473"
        ],
        [
         "30",
         "rezultataiDaugmRpg_rpgId-24100.html",
         "rezultataiDaugmRpl_rpgId-24100_rplId-716882.html",
         "3",
         "Lietuvos socialdemokratų partija",
         "249",
         "671.0",
         "2.6947791164658637"
        ],
        [
         "31",
         "rezultataiDaugmRpg_rpgId-24100.html",
         "rezultataiDaugmRpl_rpgId-24100_rplId-716882.html",
         "13",
         "Tėvynės sąjunga-Lietuvos krikščionys demokratai",
         "538",
         "1922.0",
         "3.5724907063197024"
        ],
        [
         "32",
         "rezultataiDaugmRpg_rpgId-24100.html",
         "rezultataiDaugmRpl_rpgId-24100_rplId-716882.html",
         "12",
         "Politinė partija „Nemuno Aušra“",
         "115",
         "337.0",
         "2.9304347826086956"
        ],
        [
         "33",
         "rezultataiDaugmRpg_rpgId-24100.html",
         "rezultataiDaugmRpl_rpgId-24100_rplId-716882.html",
         "11",
         "Demokratų sąjunga „Vardan Lietuvos“",
         "164",
         "432.0",
         "2.6341463414634148"
        ],
        [
         "34",
         "rezultataiDaugmRpg_rpgId-24100.html",
         "rezultataiDaugmRpl_rpgId-24100_rplId-716882.html",
         "14",
         "Liberalų sąjūdis",
         "187",
         "545.0",
         "2.914438502673797"
        ],
        [
         "35",
         "rezultataiDaugmRpg_rpgId-24100.html",
         "rezultataiDaugmRpl_rpgId-24100_rplId-716882.html",
         "8",
         "Lietuvos valstiečių ir žaliųjų sąjunga",
         "71",
         "210.0",
         "2.9577464788732395"
        ],
        [
         "36",
         "rezultataiDaugmRpg_rpgId-24100.html",
         "rezultataiDaugmRpl_rpgId-24100_rplId-716882.html",
         "16",
         "Laisvės partija",
         "142",
         "502.0",
         "3.535211267605634"
        ],
        [
         "37",
         "rezultataiDaugmRpg_rpgId-24100.html",
         "rezultataiDaugmRpl_rpgId-24100_rplId-716882.html",
         "17",
         "Lietuvos lenkų rinkimų akcija-Krikščioniškų šeimų sąjunga",
         "64",
         "179.0",
         "2.796875"
        ],
        [
         "38",
         "rezultataiDaugmRpg_rpgId-24100.html",
         "rezultataiDaugmRpl_rpgId-24100_rplId-716882.html",
         "2",
         "Nacionalinis susivienijimas",
         "103",
         "345.0",
         "3.349514563106796"
        ],
        [
         "39",
         "rezultataiDaugmRpg_rpgId-24100.html",
         "rezultataiDaugmRpl_rpgId-24100_rplId-716882.html",
         "5",
         "Lietuvos liaudies partija",
         "55",
         "112.0",
         "2.036363636363636"
        ],
        [
         "40",
         "rezultataiDaugmRpg_rpgId-24100.html",
         "rezultataiDaugmRpl_rpgId-24100_rplId-716882.html",
         "9",
         "Taikos koalicija (Darbo partija, Lietuvos krikščioniškosios demokratijos partija, Žemaičių partija)",
         "44",
         "110.0",
         "2.5"
        ],
        [
         "41",
         "rezultataiDaugmRpg_rpgId-24100.html",
         "rezultataiDaugmRpl_rpgId-24100_rplId-716882.html",
         "6",
         "Lietuvos regionų partija",
         "14",
         "42.0",
         "3.0"
        ],
        [
         "42",
         "rezultataiDaugmRpg_rpgId-24100.html",
         "rezultataiDaugmRpl_rpgId-24100_rplId-716882.html",
         "4",
         "Lietuvos žaliųjų partija",
         "38",
         "124.0",
         "3.263157894736842"
        ],
        [
         "43",
         "rezultataiDaugmRpg_rpgId-24100.html",
         "rezultataiDaugmRpl_rpgId-24100_rplId-716882.html",
         "1",
         "Tautos ir teisingumo sąjunga (centristai, tautininkai)",
         "17",
         "35.0",
         "2.0588235294117645"
        ],
        [
         "44",
         "rezultataiDaugmRpg_rpgId-24100.html",
         "rezultataiDaugmRpl_rpgId-24100_rplId-716882.html",
         "10",
         "Partija „Laisvė ir teisingumas“",
         "15",
         "35.0",
         "2.3333333333333335"
        ],
        [
         "45",
         "rezultataiDaugmRpg_rpgId-24100.html",
         "rezultataiDaugmRpl_rpgId-24100_rplId-715988.html",
         "3",
         "Lietuvos socialdemokratų partija",
         "221",
         "610.0",
         "2.760180995475113"
        ],
        [
         "46",
         "rezultataiDaugmRpg_rpgId-24100.html",
         "rezultataiDaugmRpl_rpgId-24100_rplId-715988.html",
         "13",
         "Tėvynės sąjunga-Lietuvos krikščionys demokratai",
         "373",
         "1318.0",
         "3.5335120643431637"
        ],
        [
         "47",
         "rezultataiDaugmRpg_rpgId-24100.html",
         "rezultataiDaugmRpl_rpgId-24100_rplId-715988.html",
         "12",
         "Politinė partija „Nemuno Aušra“",
         "184",
         "498.0",
         "2.7065217391304346"
        ],
        [
         "48",
         "rezultataiDaugmRpg_rpgId-24100.html",
         "rezultataiDaugmRpl_rpgId-24100_rplId-715988.html",
         "11",
         "Demokratų sąjunga „Vardan Lietuvos“",
         "128",
         "358.0",
         "2.796875"
        ],
        [
         "49",
         "rezultataiDaugmRpg_rpgId-24100.html",
         "rezultataiDaugmRpl_rpgId-24100_rplId-715988.html",
         "14",
         "Liberalų sąjūdis",
         "167",
         "543.0",
         "3.251497005988024"
        ]
       ],
       "shape": {
        "columns": 7,
        "rows": 29205
       }
      },
      "text/html": [
       "<div>\n",
       "<style scoped>\n",
       "    .dataframe tbody tr th:only-of-type {\n",
       "        vertical-align: middle;\n",
       "    }\n",
       "\n",
       "    .dataframe tbody tr th {\n",
       "        vertical-align: top;\n",
       "    }\n",
       "\n",
       "    .dataframe thead th {\n",
       "        text-align: right;\n",
       "    }\n",
       "</style>\n",
       "<table border=\"1\" class=\"dataframe\">\n",
       "  <thead>\n",
       "    <tr style=\"text-align: right;\">\n",
       "      <th></th>\n",
       "      <th>apygarda</th>\n",
       "      <th>apylinke</th>\n",
       "      <th>VRK_nr</th>\n",
       "      <th>party_name</th>\n",
       "      <th>total_apylinke_votes</th>\n",
       "      <th>total_pirm_votes</th>\n",
       "      <th>rate</th>\n",
       "    </tr>\n",
       "  </thead>\n",
       "  <tbody>\n",
       "    <tr>\n",
       "      <th>0</th>\n",
       "      <td>rezultataiDaugmRpg_rpgId-24100.html</td>\n",
       "      <td>rezultataiDaugmRpl_rpgId-24100_rplId-715986.html</td>\n",
       "      <td>3</td>\n",
       "      <td>Lietuvos socialdemokratų partija</td>\n",
       "      <td>238</td>\n",
       "      <td>652.0</td>\n",
       "      <td>2.739496</td>\n",
       "    </tr>\n",
       "    <tr>\n",
       "      <th>1</th>\n",
       "      <td>rezultataiDaugmRpg_rpgId-24100.html</td>\n",
       "      <td>rezultataiDaugmRpl_rpgId-24100_rplId-715986.html</td>\n",
       "      <td>13</td>\n",
       "      <td>Tėvynės sąjunga-Lietuvos krikščionys demokratai</td>\n",
       "      <td>373</td>\n",
       "      <td>1278.0</td>\n",
       "      <td>3.426273</td>\n",
       "    </tr>\n",
       "    <tr>\n",
       "      <th>2</th>\n",
       "      <td>rezultataiDaugmRpg_rpgId-24100.html</td>\n",
       "      <td>rezultataiDaugmRpl_rpgId-24100_rplId-715986.html</td>\n",
       "      <td>12</td>\n",
       "      <td>Politinė partija „Nemuno Aušra“</td>\n",
       "      <td>182</td>\n",
       "      <td>505.0</td>\n",
       "      <td>2.774725</td>\n",
       "    </tr>\n",
       "    <tr>\n",
       "      <th>3</th>\n",
       "      <td>rezultataiDaugmRpg_rpgId-24100.html</td>\n",
       "      <td>rezultataiDaugmRpl_rpgId-24100_rplId-715986.html</td>\n",
       "      <td>11</td>\n",
       "      <td>Demokratų sąjunga „Vardan Lietuvos“</td>\n",
       "      <td>166</td>\n",
       "      <td>492.0</td>\n",
       "      <td>2.963855</td>\n",
       "    </tr>\n",
       "    <tr>\n",
       "      <th>4</th>\n",
       "      <td>rezultataiDaugmRpg_rpgId-24100.html</td>\n",
       "      <td>rezultataiDaugmRpl_rpgId-24100_rplId-715986.html</td>\n",
       "      <td>14</td>\n",
       "      <td>Liberalų sąjūdis</td>\n",
       "      <td>128</td>\n",
       "      <td>393.0</td>\n",
       "      <td>3.070312</td>\n",
       "    </tr>\n",
       "    <tr>\n",
       "      <th>...</th>\n",
       "      <td>...</td>\n",
       "      <td>...</td>\n",
       "      <td>...</td>\n",
       "      <td>...</td>\n",
       "      <td>...</td>\n",
       "      <td>...</td>\n",
       "      <td>...</td>\n",
       "    </tr>\n",
       "    <tr>\n",
       "      <th>29200</th>\n",
       "      <td>rezultataiDaugmRpg_rpgId-24112.html</td>\n",
       "      <td>rezultataiDaugmRpl_rpgId-24112_rplId-715726.html</td>\n",
       "      <td>9</td>\n",
       "      <td>Taikos koalicija (Darbo partija, Lietuvos krik...</td>\n",
       "      <td>13</td>\n",
       "      <td>55.0</td>\n",
       "      <td>4.230769</td>\n",
       "    </tr>\n",
       "    <tr>\n",
       "      <th>29201</th>\n",
       "      <td>rezultataiDaugmRpg_rpgId-24112.html</td>\n",
       "      <td>rezultataiDaugmRpl_rpgId-24112_rplId-715726.html</td>\n",
       "      <td>6</td>\n",
       "      <td>Lietuvos regionų partija</td>\n",
       "      <td>28</td>\n",
       "      <td>74.0</td>\n",
       "      <td>2.642857</td>\n",
       "    </tr>\n",
       "    <tr>\n",
       "      <th>29202</th>\n",
       "      <td>rezultataiDaugmRpg_rpgId-24112.html</td>\n",
       "      <td>rezultataiDaugmRpl_rpgId-24112_rplId-715726.html</td>\n",
       "      <td>4</td>\n",
       "      <td>Lietuvos žaliųjų partija</td>\n",
       "      <td>11</td>\n",
       "      <td>34.0</td>\n",
       "      <td>3.090909</td>\n",
       "    </tr>\n",
       "    <tr>\n",
       "      <th>29203</th>\n",
       "      <td>rezultataiDaugmRpg_rpgId-24112.html</td>\n",
       "      <td>rezultataiDaugmRpl_rpgId-24112_rplId-715726.html</td>\n",
       "      <td>1</td>\n",
       "      <td>Tautos ir teisingumo sąjunga (centristai, taut...</td>\n",
       "      <td>15</td>\n",
       "      <td>41.0</td>\n",
       "      <td>2.733333</td>\n",
       "    </tr>\n",
       "    <tr>\n",
       "      <th>29204</th>\n",
       "      <td>rezultataiDaugmRpg_rpgId-24112.html</td>\n",
       "      <td>rezultataiDaugmRpl_rpgId-24112_rplId-715726.html</td>\n",
       "      <td>10</td>\n",
       "      <td>Partija „Laisvė ir teisingumas“</td>\n",
       "      <td>3</td>\n",
       "      <td>10.0</td>\n",
       "      <td>3.333333</td>\n",
       "    </tr>\n",
       "  </tbody>\n",
       "</table>\n",
       "<p>29205 rows × 7 columns</p>\n",
       "</div>"
      ],
      "text/plain": [
       "\n",
       "                                  apygarda  \\\n",
       "\u001b[1;36m0\u001b[0m      rezultataiDaugmRpg_rpgId-\u001b[1;36m24100.\u001b[0mhtml   \n",
       "\u001b[1;36m1\u001b[0m      rezultataiDaugmRpg_rpgId-\u001b[1;36m24100.\u001b[0mhtml   \n",
       "\u001b[1;36m2\u001b[0m      rezultataiDaugmRpg_rpgId-\u001b[1;36m24100.\u001b[0mhtml   \n",
       "\u001b[1;36m3\u001b[0m      rezultataiDaugmRpg_rpgId-\u001b[1;36m24100.\u001b[0mhtml   \n",
       "\u001b[1;36m4\u001b[0m      rezultataiDaugmRpg_rpgId-\u001b[1;36m24100.\u001b[0mhtml   \n",
       "\u001b[33m...\u001b[0m                                    \u001b[33m...\u001b[0m   \n",
       "\u001b[1;36m29200\u001b[0m  rezultataiDaugmRpg_rpgId-\u001b[1;36m24112.\u001b[0mhtml   \n",
       "\u001b[1;36m29201\u001b[0m  rezultataiDaugmRpg_rpgId-\u001b[1;36m24112.\u001b[0mhtml   \n",
       "\u001b[1;36m29202\u001b[0m  rezultataiDaugmRpg_rpgId-\u001b[1;36m24112.\u001b[0mhtml   \n",
       "\u001b[1;36m29203\u001b[0m  rezultataiDaugmRpg_rpgId-\u001b[1;36m24112.\u001b[0mhtml   \n",
       "\u001b[1;36m29204\u001b[0m  rezultataiDaugmRpg_rpgId-\u001b[1;36m24112.\u001b[0mhtml   \n",
       "\n",
       "                                               apylinke  VRK_nr  \\\n",
       "\u001b[1;36m0\u001b[0m      rezultataiDaugmRpl_rpgId-24100_rplId-\u001b[1;36m715986.\u001b[0mhtml       \u001b[1;36m3\u001b[0m   \n",
       "\u001b[1;36m1\u001b[0m      rezultataiDaugmRpl_rpgId-24100_rplId-\u001b[1;36m715986.\u001b[0mhtml      \u001b[1;36m13\u001b[0m   \n",
       "\u001b[1;36m2\u001b[0m      rezultataiDaugmRpl_rpgId-24100_rplId-\u001b[1;36m715986.\u001b[0mhtml      \u001b[1;36m12\u001b[0m   \n",
       "\u001b[1;36m3\u001b[0m      rezultataiDaugmRpl_rpgId-24100_rplId-\u001b[1;36m715986.\u001b[0mhtml      \u001b[1;36m11\u001b[0m   \n",
       "\u001b[1;36m4\u001b[0m      rezultataiDaugmRpl_rpgId-24100_rplId-\u001b[1;36m715986.\u001b[0mhtml      \u001b[1;36m14\u001b[0m   \n",
       "\u001b[33m...\u001b[0m                                                 \u001b[33m...\u001b[0m     \u001b[33m...\u001b[0m   \n",
       "\u001b[1;36m29200\u001b[0m  rezultataiDaugmRpl_rpgId-24112_rplId-\u001b[1;36m715726.\u001b[0mhtml       \u001b[1;36m9\u001b[0m   \n",
       "\u001b[1;36m29201\u001b[0m  rezultataiDaugmRpl_rpgId-24112_rplId-\u001b[1;36m715726.\u001b[0mhtml       \u001b[1;36m6\u001b[0m   \n",
       "\u001b[1;36m29202\u001b[0m  rezultataiDaugmRpl_rpgId-24112_rplId-\u001b[1;36m715726.\u001b[0mhtml       \u001b[1;36m4\u001b[0m   \n",
       "\u001b[1;36m29203\u001b[0m  rezultataiDaugmRpl_rpgId-24112_rplId-\u001b[1;36m715726.\u001b[0mhtml       \u001b[1;36m1\u001b[0m   \n",
       "\u001b[1;36m29204\u001b[0m  rezultataiDaugmRpl_rpgId-24112_rplId-\u001b[1;36m715726.\u001b[0mhtml      \u001b[1;36m10\u001b[0m   \n",
       "\n",
       "                                              party_name  \\\n",
       "\u001b[1;36m0\u001b[0m                       Lietuvos socialdemokratų partija   \n",
       "\u001b[1;36m1\u001b[0m        Tėvynės sąjunga-Lietuvos krikščionys demokratai   \n",
       "\u001b[1;36m2\u001b[0m                        Politinė partija „Nemuno Aušra“   \n",
       "\u001b[1;36m3\u001b[0m                    Demokratų sąjunga „Vardan Lietuvos“   \n",
       "\u001b[1;36m4\u001b[0m                                       Liberalų sąjūdis   \n",
       "\u001b[33m...\u001b[0m                                                  \u001b[33m...\u001b[0m   \n",
       "\u001b[1;36m29200\u001b[0m  Taikos koalicija \u001b[1m(\u001b[0mDarbo partija, Lietuvos krik\u001b[33m...\u001b[0m   \n",
       "\u001b[1;36m29201\u001b[0m                           Lietuvos regionų partija   \n",
       "\u001b[1;36m29202\u001b[0m                           Lietuvos žaliųjų partija   \n",
       "\u001b[1;36m29203\u001b[0m  Tautos ir teisingumo sąjunga \u001b[1m(\u001b[0mcentristai, taut\u001b[33m...\u001b[0m   \n",
       "\u001b[1;36m29204\u001b[0m                    Partija „Laisvė ir teisingumas“   \n",
       "\n",
       "       total_apylinke_votes  total_pirm_votes      rate  \n",
       "\u001b[1;36m0\u001b[0m                       \u001b[1;36m238\u001b[0m             \u001b[1;36m652.0\u001b[0m  \u001b[1;36m2.739496\u001b[0m  \n",
       "\u001b[1;36m1\u001b[0m                       \u001b[1;36m373\u001b[0m            \u001b[1;36m1278.0\u001b[0m  \u001b[1;36m3.426273\u001b[0m  \n",
       "\u001b[1;36m2\u001b[0m                       \u001b[1;36m182\u001b[0m             \u001b[1;36m505.0\u001b[0m  \u001b[1;36m2.774725\u001b[0m  \n",
       "\u001b[1;36m3\u001b[0m                       \u001b[1;36m166\u001b[0m             \u001b[1;36m492.0\u001b[0m  \u001b[1;36m2.963855\u001b[0m  \n",
       "\u001b[1;36m4\u001b[0m                       \u001b[1;36m128\u001b[0m             \u001b[1;36m393.0\u001b[0m  \u001b[1;36m3.070312\u001b[0m  \n",
       "\u001b[33m...\u001b[0m                     \u001b[33m...\u001b[0m               \u001b[33m...\u001b[0m       \u001b[33m...\u001b[0m  \n",
       "\u001b[1;36m29200\u001b[0m                    \u001b[1;36m13\u001b[0m              \u001b[1;36m55.0\u001b[0m  \u001b[1;36m4.230769\u001b[0m  \n",
       "\u001b[1;36m29201\u001b[0m                    \u001b[1;36m28\u001b[0m              \u001b[1;36m74.0\u001b[0m  \u001b[1;36m2.642857\u001b[0m  \n",
       "\u001b[1;36m29202\u001b[0m                    \u001b[1;36m11\u001b[0m              \u001b[1;36m34.0\u001b[0m  \u001b[1;36m3.090909\u001b[0m  \n",
       "\u001b[1;36m29203\u001b[0m                    \u001b[1;36m15\u001b[0m              \u001b[1;36m41.0\u001b[0m  \u001b[1;36m2.733333\u001b[0m  \n",
       "\u001b[1;36m29204\u001b[0m                     \u001b[1;36m3\u001b[0m              \u001b[1;36m10.0\u001b[0m  \u001b[1;36m3.333333\u001b[0m  \n",
       "\n",
       "\u001b[1m[\u001b[0m\u001b[1;36m29205\u001b[0m rows x \u001b[1;36m7\u001b[0m columns\u001b[1m]\u001b[0m"
      ]
     },
     "execution_count": 24,
     "metadata": {},
     "output_type": "execute_result"
    }
   ],
   "source": [
    "df = catalog.load(\"all_total_pirm_votes_by_apylinke\")\n",
    "df['rate'] = df['total_pirm_votes'] / df['total_apylinke_votes']\n",
    "df"
   ]
  },
  {
   "cell_type": "markdown",
   "metadata": {},
   "source": [
    "# metrics"
   ]
  },
  {
   "cell_type": "markdown",
   "metadata": {},
   "source": [
    "### average pirm rate per party"
   ]
  },
  {
   "cell_type": "code",
   "execution_count": 22,
   "metadata": {},
   "outputs": [
    {
     "data": {
      "text/html": [
       "<pre style=\"white-space:pre;overflow-x:auto;line-height:normal;font-family:Menlo,'DejaVu Sans Mono',consolas,'Courier New',monospace\"></pre>\n"
      ],
      "text/plain": []
     },
     "metadata": {},
     "output_type": "display_data"
    },
    {
     "data": {
      "text/plain": [
       "\n",
       "party_name\n",
       "Tėvynės sąjunga-Lietuvos krikščionys demokratai                                                        \u001b[1;36m3.293185\u001b[0m\n",
       "Laisvės partija                                                                                        \u001b[1;36m3.232409\u001b[0m\n",
       "Lietuvos valstiečių ir žaliųjų sąjunga                                                                 \u001b[1;36m3.055199\u001b[0m\n",
       "Liberalų sąjūdis                                                                                       \u001b[1;36m3.006050\u001b[0m\n",
       "Nacionalinis susivienijimas                                                                            \u001b[1;36m2.880199\u001b[0m\n",
       "Demokratų sąjunga „Vardan Lietuvos“                                                                    \u001b[1;36m2.829396\u001b[0m\n",
       "Lietuvos lenkų rinkimų akcija-Krikščioniškų šeimų sąjunga                                              \u001b[1;36m2.746645\u001b[0m\n",
       "Taikos koalicija \u001b[1m(\u001b[0mDarbo partija, Lietuvos krikščioniškosios demokratijos partija, Žemaičių partija\u001b[1m)\u001b[0m    \u001b[1;36m2.581683\u001b[0m\n",
       "Lietuvos regionų partija                                                                               \u001b[1;36m2.520448\u001b[0m\n",
       "Lietuvos socialdemokratų partija                                                                       \u001b[1;36m2.450435\u001b[0m\n",
       "Politinė partija „Nemuno Aušra“                                                                        \u001b[1;36m2.369883\u001b[0m\n",
       "Lietuvos žaliųjų partija                                                                               \u001b[1;36m2.328826\u001b[0m\n",
       "Tautos ir teisingumo sąjunga \u001b[1m(\u001b[0mcentristai, tautininkai\u001b[1m)\u001b[0m                                                 \u001b[1;36m2.298757\u001b[0m\n",
       "Lietuvos liaudies partija                                                                              \u001b[1;36m2.231585\u001b[0m\n",
       "Partija „Laisvė ir teisingumas“                                                                        \u001b[1;36m2.122771\u001b[0m\n",
       "dtype: float64"
      ]
     },
     "execution_count": 22,
     "metadata": {},
     "output_type": "execute_result"
    }
   ],
   "source": [
    "total_votes_per_party = df.groupby(\"party_name\").sum()['total_apylinke_votes']\n",
    "total_pirm_votes_per_party = df.groupby(\"party_name\").sum()['total_pirm_votes']\n",
    "average_pirm_rate_per_party = (total_pirm_votes_per_party / total_votes_per_party).sort_values(ascending=False)\n",
    "average_pirm_rate_per_party"
   ]
  },
  {
   "cell_type": "markdown",
   "metadata": {},
   "source": [
    "### average pirm rate per apygarda"
   ]
  },
  {
   "cell_type": "code",
   "execution_count": 44,
   "metadata": {},
   "outputs": [],
   "source": [
    "total_votes_per_apygarda = df.groupby(\"apygarda\").sum()['total_apylinke_votes']\n",
    "total_pirm_votes_per_apygarda = df.groupby(\"apygarda\").sum()['total_pirm_votes']\n",
    "average_pirm_rate_per_apygarda = (total_pirm_votes_per_apygarda / total_votes_per_apygarda).sort_values(ascending=False)\n",
    "# average_pirm_rate_per_apygarda = pd.DataFrame(total_votes_per_apygarda)\n",
    "# average_pirm_rate_per_apygarda['count_of_apylinke'] = df.groupby(\"apygarda\").apply(lambda x: x.apylinke.nunique())\n",
    "# average_pirm_rate_per_apygarda = average_pirm_rate_per_apygarda.sort_values(by='total_apylinke_votes',ascending=False)"
   ]
  },
  {
   "cell_type": "code",
   "execution_count": 45,
   "metadata": {},
   "outputs": [
    {
     "data": {
      "text/html": [
       "<pre style=\"white-space:pre;overflow-x:auto;line-height:normal;font-family:Menlo,'DejaVu Sans Mono',consolas,'Courier New',monospace\"></pre>\n"
      ],
      "text/plain": []
     },
     "metadata": {},
     "output_type": "display_data"
    },
    {
     "data": {
      "text/plain": [
       "\n",
       "apygarda\n",
       "rezultataiDaugmRpg_rpgId-\u001b[1;36m24094.\u001b[0mhtml    \u001b[1;36m3.336973\u001b[0m\n",
       "rezultataiDaugmRpg_rpgId-\u001b[1;36m24262.\u001b[0mhtml    \u001b[1;36m3.202523\u001b[0m\n",
       "rezultataiDaugmRpg_rpgId-\u001b[1;36m24082.\u001b[0mhtml    \u001b[1;36m3.185556\u001b[0m\n",
       "rezultataiDaugmRpg_rpgId-\u001b[1;36m24280.\u001b[0mhtml    \u001b[1;36m3.116875\u001b[0m\n",
       "rezultataiDaugmRpg_rpgId-\u001b[1;36m24036.\u001b[0mhtml    \u001b[1;36m3.111844\u001b[0m\n",
       "                                         \u001b[33m...\u001b[0m   \n",
       "rezultataiDaugmRpg_rpgId-\u001b[1;36m24116.\u001b[0mhtml    \u001b[1;36m2.380636\u001b[0m\n",
       "rezultataiDaugmRpg_rpgId-\u001b[1;36m24132.\u001b[0mhtml    \u001b[1;36m2.341482\u001b[0m\n",
       "rezultataiDaugmRpg_rpgId-\u001b[1;36m24296.\u001b[0mhtml    \u001b[1;36m2.326384\u001b[0m\n",
       "rezultataiDaugmRpg_rpgId-\u001b[1;36m24144.\u001b[0mhtml    \u001b[1;36m2.279341\u001b[0m\n",
       "rezultataiDaugmRpg_rpgId-\u001b[1;36m24120.\u001b[0mhtml    \u001b[1;36m2.200012\u001b[0m\n",
       "Length: \u001b[1;36m71\u001b[0m, dtype: float64"
      ]
     },
     "execution_count": 45,
     "metadata": {},
     "output_type": "execute_result"
    }
   ],
   "source": [
    "average_pirm_rate_per_apygarda"
   ]
  },
  {
   "cell_type": "markdown",
   "metadata": {},
   "source": [
    "### rate per apylinke"
   ]
  },
  {
   "cell_type": "code",
   "execution_count": 60,
   "metadata": {},
   "outputs": [],
   "source": [
    "total_votes_per_apylinke = df.groupby(\"apylinke\").sum()['total_apylinke_votes']\n",
    "total_pirm_votes_per_apylinke = df.groupby(\"apylinke\").sum()['total_pirm_votes']\n",
    "average_pirm_rate_per_apylinke = pd.DataFrame(total_pirm_votes_per_apylinke / total_votes_per_apylinke)\n",
    "average_pirm_rate_per_apylinke.columns = ['rate']\n",
    "average_pirm_rate_per_apylinke['total_apylinke_votes'] = total_votes_per_apylinke\n",
    "average_pirm_rate_per_apylinke = average_pirm_rate_per_apylinke.sort_values(by='rate', ascending = False)"
   ]
  },
  {
   "cell_type": "code",
   "execution_count": 61,
   "metadata": {},
   "outputs": [
    {
     "data": {
      "text/html": [
       "<pre style=\"white-space:pre;overflow-x:auto;line-height:normal;font-family:Menlo,'DejaVu Sans Mono',consolas,'Courier New',monospace\"></pre>\n"
      ],
      "text/plain": []
     },
     "metadata": {},
     "output_type": "display_data"
    },
    {
     "data": {
      "application/vnd.microsoft.datawrangler.viewer.v0+json": {
       "columns": [
        {
         "name": "apylinke",
         "rawType": "object",
         "type": "string"
        },
        {
         "name": "rate",
         "rawType": "float64",
         "type": "float"
        },
        {
         "name": "total_apylinke_votes",
         "rawType": "int64",
         "type": "integer"
        }
       ],
       "conversionMethod": "pd.DataFrame",
       "ref": "591a0627-3d95-45c7-9623-21566907028a",
       "rows": [
        [
         "rezultataiDaugmRpl_rpgId-24062_rplId-716202.html",
         "4.477386934673367",
         "398"
        ],
        [
         "rezultataiDaugmRpl_rpgId-24062_rplId-716058.html",
         "4.384615384615385",
         "208"
        ],
        [
         "rezultataiDaugmRpl_rpgId-24062_rplId-713174.html",
         "4.314102564102564",
         "156"
        ],
        [
         "rezultataiDaugmRpl_rpgId-24094_rplId-714586.html",
         "4.222222222222222",
         "18"
        ],
        [
         "rezultataiDaugmRpl_rpgId-24062_rplId-716196.html",
         "4.21479374110953",
         "703"
        ],
        [
         "rezultataiDaugmRpl_rpgId-24094_rplId-716502.html",
         "4.081081081081081",
         "37"
        ],
        [
         "rezultataiDaugmRpl_rpgId-24094_rplId-713426.html",
         "3.8703703703703702",
         "54"
        ],
        [
         "rezultataiDaugmRpl_rpgId-24094_rplId-713412.html",
         "3.823529411764706",
         "85"
        ],
        [
         "rezultataiDaugmRpl_rpgId-24094_rplId-714796.html",
         "3.8205128205128207",
         "39"
        ],
        [
         "rezultataiDaugmRpl_rpgId-24138_rplId-713106.html",
         "3.8109756097560976",
         "164"
        ],
        [
         "rezultataiDaugmRpl_rpgId-24062_rplId-716206.html",
         "3.7800687285223367",
         "291"
        ],
        [
         "rezultataiDaugmRpl_rpgId-24094_rplId-714778.html",
         "3.75",
         "12"
        ],
        [
         "rezultataiDaugmRpl_rpgId-24094_rplId-713240.html",
         "3.7333333333333334",
         "60"
        ],
        [
         "rezultataiDaugmRpl_rpgId-24094_rplId-713416.html",
         "3.6842105263157894",
         "19"
        ],
        [
         "rezultataiDaugmRpl_rpgId-24140_rplId-714850.html",
         "3.671232876712329",
         "73"
        ],
        [
         "rezultataiDaugmRpl_rpgId-24094_rplId-713260.html",
         "3.664285714285714",
         "140"
        ],
        [
         "rezultataiDaugmRpl_rpgId-24094_rplId-713244.html",
         "3.6597014925373132",
         "670"
        ],
        [
         "rezultataiDaugmRpl_rpgId-24262_rplId-717506.html",
         "3.6499705362404242",
         "1697"
        ],
        [
         "rezultataiDaugmRpl_rpgId-24118_rplId-714564.html",
         "3.6219512195121952",
         "328"
        ],
        [
         "rezultataiDaugmRpl_rpgId-24062_rplId-717060.html",
         "3.604790419161677",
         "334"
        ],
        [
         "rezultataiDaugmRpl_rpgId-24118_rplId-714284.html",
         "3.6023622047244093",
         "254"
        ],
        [
         "rezultataiDaugmRpl_rpgId-24062_rplId-716060.html",
         "3.5932721712538225",
         "327"
        ],
        [
         "rezultataiDaugmRpl_rpgId-24062_rplId-714680.html",
         "3.5825825825825826",
         "333"
        ],
        [
         "rezultataiDaugmRpl_rpgId-24062_rplId-716052.html",
         "3.5744234800838575",
         "477"
        ],
        [
         "rezultataiDaugmRpl_rpgId-24094_rplId-713744.html",
         "3.538955823293173",
         "1245"
        ],
        [
         "rezultataiDaugmRpl_rpgId-24118_rplId-714558.html",
         "3.53156146179402",
         "301"
        ],
        [
         "rezultataiDaugmRpl_rpgId-24062_rplId-714728.html",
         "3.5213675213675213",
         "117"
        ],
        [
         "rezultataiDaugmRpl_rpgId-24062_rplId-716190.html",
         "3.5191836734693878",
         "1225"
        ],
        [
         "rezultataiDaugmRpl_rpgId-24094_rplId-714824.html",
         "3.5184475323430764",
         "2087"
        ],
        [
         "rezultataiDaugmRpl_rpgId-24258_rplId-713258.html",
         "3.5170340681362724",
         "1996"
        ],
        [
         "rezultataiDaugmRpl_rpgId-24270_rplId-717120.html",
         "3.5158150851581507",
         "411"
        ],
        [
         "rezultataiDaugmRpl_rpgId-24270_rplId-717102.html",
         "3.5101246105919004",
         "1284"
        ],
        [
         "rezultataiDaugmRpl_rpgId-24094_rplId-714776.html",
         "3.509153884215735",
         "2021"
        ],
        [
         "rezultataiDaugmRpl_rpgId-24094_rplId-714814.html",
         "3.50716694772344",
         "2372"
        ],
        [
         "rezultataiDaugmRpl_rpgId-24094_rplId-714810.html",
         "3.4979757085020244",
         "247"
        ],
        [
         "rezultataiDaugmRpl_rpgId-24094_rplId-714398.html",
         "3.4943181818181817",
         "176"
        ],
        [
         "rezultataiDaugmRpl_rpgId-24118_rplId-714274.html",
         "3.4927536231884058",
         "414"
        ],
        [
         "rezultataiDaugmRpl_rpgId-24262_rplId-716956.html",
         "3.4920553562275756",
         "1951"
        ],
        [
         "rezultataiDaugmRpl_rpgId-24094_rplId-714322.html",
         "3.4804270462633453",
         "1405"
        ],
        [
         "rezultataiDaugmRpl_rpgId-24138_rplId-716268.html",
         "3.475609756097561",
         "164"
        ],
        [
         "rezultataiDaugmRpl_rpgId-24094_rplId-714816.html",
         "3.4661134163208853",
         "723"
        ],
        [
         "rezultataiDaugmRpl_rpgId-24094_rplId-713262.html",
         "3.4656488549618323",
         "262"
        ],
        [
         "rezultataiDaugmRpl_rpgId-24262_rplId-716338.html",
         "3.4595487066593287",
         "1817"
        ],
        [
         "rezultataiDaugmRpl_rpgId-24094_rplId-714692.html",
         "3.458545918367347",
         "1568"
        ],
        [
         "rezultataiDaugmRpl_rpgId-24100_rplId-716734.html",
         "3.4500330906684313",
         "1511"
        ],
        [
         "rezultataiDaugmRpl_rpgId-24254_rplId-713256.html",
         "3.4434782608695653",
         "2185"
        ],
        [
         "rezultataiDaugmRpl_rpgId-24062_rplId-716186.html",
         "3.4396135265700485",
         "207"
        ],
        [
         "rezultataiDaugmRpl_rpgId-24090_rplId-714282.html",
         "3.4383561643835616",
         "146"
        ],
        [
         "rezultataiDaugmRpl_rpgId-24082_rplId-715820.html",
         "3.422727272727273",
         "1540"
        ],
        [
         "rezultataiDaugmRpl_rpgId-24108_rplId-715878.html",
         "3.4187627464309993",
         "1471"
        ]
       ],
       "shape": {
        "columns": 2,
        "rows": 1947
       }
      },
      "text/html": [
       "<div>\n",
       "<style scoped>\n",
       "    .dataframe tbody tr th:only-of-type {\n",
       "        vertical-align: middle;\n",
       "    }\n",
       "\n",
       "    .dataframe tbody tr th {\n",
       "        vertical-align: top;\n",
       "    }\n",
       "\n",
       "    .dataframe thead th {\n",
       "        text-align: right;\n",
       "    }\n",
       "</style>\n",
       "<table border=\"1\" class=\"dataframe\">\n",
       "  <thead>\n",
       "    <tr style=\"text-align: right;\">\n",
       "      <th></th>\n",
       "      <th>rate</th>\n",
       "      <th>total_apylinke_votes</th>\n",
       "    </tr>\n",
       "    <tr>\n",
       "      <th>apylinke</th>\n",
       "      <th></th>\n",
       "      <th></th>\n",
       "    </tr>\n",
       "  </thead>\n",
       "  <tbody>\n",
       "    <tr>\n",
       "      <th>rezultataiDaugmRpl_rpgId-24062_rplId-716202.html</th>\n",
       "      <td>4.477387</td>\n",
       "      <td>398</td>\n",
       "    </tr>\n",
       "    <tr>\n",
       "      <th>rezultataiDaugmRpl_rpgId-24062_rplId-716058.html</th>\n",
       "      <td>4.384615</td>\n",
       "      <td>208</td>\n",
       "    </tr>\n",
       "    <tr>\n",
       "      <th>rezultataiDaugmRpl_rpgId-24062_rplId-713174.html</th>\n",
       "      <td>4.314103</td>\n",
       "      <td>156</td>\n",
       "    </tr>\n",
       "    <tr>\n",
       "      <th>rezultataiDaugmRpl_rpgId-24094_rplId-714586.html</th>\n",
       "      <td>4.222222</td>\n",
       "      <td>18</td>\n",
       "    </tr>\n",
       "    <tr>\n",
       "      <th>rezultataiDaugmRpl_rpgId-24062_rplId-716196.html</th>\n",
       "      <td>4.214794</td>\n",
       "      <td>703</td>\n",
       "    </tr>\n",
       "    <tr>\n",
       "      <th>...</th>\n",
       "      <td>...</td>\n",
       "      <td>...</td>\n",
       "    </tr>\n",
       "    <tr>\n",
       "      <th>rezultataiDaugmRpl_rpgId-24112_rplId-715744.html</th>\n",
       "      <td>1.237624</td>\n",
       "      <td>101</td>\n",
       "    </tr>\n",
       "    <tr>\n",
       "      <th>rezultataiDaugmRpl_rpgId-24116_rplId-715462.html</th>\n",
       "      <td>1.158163</td>\n",
       "      <td>196</td>\n",
       "    </tr>\n",
       "    <tr>\n",
       "      <th>rezultataiDaugmRpl_rpgId-24128_rplId-716826.html</th>\n",
       "      <td>1.083333</td>\n",
       "      <td>48</td>\n",
       "    </tr>\n",
       "    <tr>\n",
       "      <th>rezultataiDaugmRpl_rpgId-24294_rplId-715250.html</th>\n",
       "      <td>1.058394</td>\n",
       "      <td>137</td>\n",
       "    </tr>\n",
       "    <tr>\n",
       "      <th>rezultataiDaugmRpl_rpgId-24122_rplId-715526.html</th>\n",
       "      <td>0.568182</td>\n",
       "      <td>132</td>\n",
       "    </tr>\n",
       "  </tbody>\n",
       "</table>\n",
       "<p>1947 rows × 2 columns</p>\n",
       "</div>"
      ],
      "text/plain": [
       "\n",
       "                                                      rate  \\\n",
       "apylinke                                                     \n",
       "rezultataiDaugmRpl_rpgId-24062_rplId-\u001b[1;36m716202.\u001b[0mhtml  \u001b[1;36m4.477387\u001b[0m   \n",
       "rezultataiDaugmRpl_rpgId-24062_rplId-\u001b[1;36m716058.\u001b[0mhtml  \u001b[1;36m4.384615\u001b[0m   \n",
       "rezultataiDaugmRpl_rpgId-24062_rplId-\u001b[1;36m713174.\u001b[0mhtml  \u001b[1;36m4.314103\u001b[0m   \n",
       "rezultataiDaugmRpl_rpgId-24094_rplId-\u001b[1;36m714586.\u001b[0mhtml  \u001b[1;36m4.222222\u001b[0m   \n",
       "rezultataiDaugmRpl_rpgId-24062_rplId-\u001b[1;36m716196.\u001b[0mhtml  \u001b[1;36m4.214794\u001b[0m   \n",
       "\u001b[33m...\u001b[0m                                                    \u001b[33m...\u001b[0m   \n",
       "rezultataiDaugmRpl_rpgId-24112_rplId-\u001b[1;36m715744.\u001b[0mhtml  \u001b[1;36m1.237624\u001b[0m   \n",
       "rezultataiDaugmRpl_rpgId-24116_rplId-\u001b[1;36m715462.\u001b[0mhtml  \u001b[1;36m1.158163\u001b[0m   \n",
       "rezultataiDaugmRpl_rpgId-24128_rplId-\u001b[1;36m716826.\u001b[0mhtml  \u001b[1;36m1.083333\u001b[0m   \n",
       "rezultataiDaugmRpl_rpgId-24294_rplId-\u001b[1;36m715250.\u001b[0mhtml  \u001b[1;36m1.058394\u001b[0m   \n",
       "rezultataiDaugmRpl_rpgId-24122_rplId-\u001b[1;36m715526.\u001b[0mhtml  \u001b[1;36m0.568182\u001b[0m   \n",
       "\n",
       "                                                  total_apylinke_votes  \n",
       "apylinke                                                                \n",
       "rezultataiDaugmRpl_rpgId-24062_rplId-\u001b[1;36m716202.\u001b[0mhtml                   \u001b[1;36m398\u001b[0m  \n",
       "rezultataiDaugmRpl_rpgId-24062_rplId-\u001b[1;36m716058.\u001b[0mhtml                   \u001b[1;36m208\u001b[0m  \n",
       "rezultataiDaugmRpl_rpgId-24062_rplId-\u001b[1;36m713174.\u001b[0mhtml                   \u001b[1;36m156\u001b[0m  \n",
       "rezultataiDaugmRpl_rpgId-24094_rplId-\u001b[1;36m714586.\u001b[0mhtml                    \u001b[1;36m18\u001b[0m  \n",
       "rezultataiDaugmRpl_rpgId-24062_rplId-\u001b[1;36m716196.\u001b[0mhtml                   \u001b[1;36m703\u001b[0m  \n",
       "\u001b[33m...\u001b[0m                                                                \u001b[33m...\u001b[0m  \n",
       "rezultataiDaugmRpl_rpgId-24112_rplId-\u001b[1;36m715744.\u001b[0mhtml                   \u001b[1;36m101\u001b[0m  \n",
       "rezultataiDaugmRpl_rpgId-24116_rplId-\u001b[1;36m715462.\u001b[0mhtml                   \u001b[1;36m196\u001b[0m  \n",
       "rezultataiDaugmRpl_rpgId-24128_rplId-\u001b[1;36m716826.\u001b[0mhtml                    \u001b[1;36m48\u001b[0m  \n",
       "rezultataiDaugmRpl_rpgId-24294_rplId-\u001b[1;36m715250.\u001b[0mhtml                   \u001b[1;36m137\u001b[0m  \n",
       "rezultataiDaugmRpl_rpgId-24122_rplId-\u001b[1;36m715526.\u001b[0mhtml                   \u001b[1;36m132\u001b[0m  \n",
       "\n",
       "\u001b[1m[\u001b[0m\u001b[1;36m1947\u001b[0m rows x \u001b[1;36m2\u001b[0m columns\u001b[1m]\u001b[0m"
      ]
     },
     "execution_count": 61,
     "metadata": {},
     "output_type": "execute_result"
    },
    {
     "data": {
      "text/html": [
       "<pre style=\"white-space:pre;overflow-x:auto;line-height:normal;font-family:Menlo,'DejaVu Sans Mono',consolas,'Courier New',monospace\"></pre>\n"
      ],
      "text/plain": []
     },
     "metadata": {},
     "output_type": "display_data"
    },
    {
     "data": {
      "image/png": "[encoded data removed]",
      "text/plain": [
       "\u001b[1m<\u001b[0m\u001b[1;95mFigure\u001b[0m\u001b[39m size 64\u001b[0m\u001b[1;36m0x480\u001b[0m\u001b[39m with \u001b[0m\u001b[1;36m2\u001b[0m\u001b[39m Axes\u001b[0m\u001b[1m>\u001b[0m"
      ]
     },
     "metadata": {},
     "output_type": "display_data"
    }
   ],
   "source": [
    "average_pirm_rate_per_apylinke.hist()\n",
    "average_pirm_rate_per_apylinke"
   ]
  },
  {
   "cell_type": "markdown",
   "metadata": {},
   "source": [
    "### rate per apylinke party"
   ]
  },
  {
   "cell_type": "code",
   "execution_count": 68,
   "metadata": {},
   "outputs": [
    {
     "data": {
      "text/html": [
       "<pre style=\"white-space:pre;overflow-x:auto;line-height:normal;font-family:Menlo,'DejaVu Sans Mono',consolas,'Courier New',monospace\"></pre>\n"
      ],
      "text/plain": []
     },
     "metadata": {},
     "output_type": "display_data"
    },
    {
     "data": {
      "application/vnd.microsoft.datawrangler.viewer.v0+json": {
       "columns": [
        {
         "name": "index",
         "rawType": "int64",
         "type": "integer"
        },
        {
         "name": "apygarda",
         "rawType": "object",
         "type": "string"
        },
        {
         "name": "apylinke",
         "rawType": "object",
         "type": "string"
        },
        {
         "name": "VRK_nr",
         "rawType": "int64",
         "type": "integer"
        },
        {
         "name": "party_name",
         "rawType": "object",
         "type": "string"
        },
        {
         "name": "total_apylinke_votes",
         "rawType": "int64",
         "type": "integer"
        },
        {
         "name": "total_pirm_votes",
         "rawType": "float64",
         "type": "float"
        },
        {
         "name": "rate",
         "rawType": "float64",
         "type": "float"
        }
       ],
       "conversionMethod": "pd.DataFrame",
       "ref": "4fe5bb1d-50a1-46ec-896e-78b1fe6ec90e",
       "rows": [
        [
         "29197",
         "rezultataiDaugmRpg_rpgId-24112.html",
         "rezultataiDaugmRpl_rpgId-24112_rplId-715726.html",
         "17",
         "Lietuvos lenkų rinkimų akcija-Krikščioniškų šeimų sąjunga",
         "1",
         "5.0",
         "5.0"
        ],
        [
         "3014",
         "rezultataiDaugmRpg_rpgId-24294.html",
         "rezultataiDaugmRpl_rpgId-24294_rplId-715504.html",
         "10",
         "Partija „Laisvė ir teisingumas“",
         "1",
         "5.0",
         "5.0"
        ],
        [
         "17742",
         "rezultataiDaugmRpg_rpgId-24064.html",
         "rezultataiDaugmRpl_rpgId-24064_rplId-714738.html",
         "4",
         "Lietuvos žaliųjų partija",
         "1",
         "5.0",
         "5.0"
        ],
        [
         "17678",
         "rezultataiDaugmRpg_rpgId-24064.html",
         "rezultataiDaugmRpl_rpgId-24064_rplId-713742.html",
         "2",
         "Nacionalinis susivienijimas",
         "6",
         "30.0",
         "5.0"
        ],
        [
         "6071",
         "rezultataiDaugmRpg_rpgId-24062.html",
         "rezultataiDaugmRpl_rpgId-24062_rplId-714446.html",
         "6",
         "Lietuvos regionų partija",
         "2",
         "10.0",
         "5.0"
        ],
        [
         "6065",
         "rezultataiDaugmRpg_rpgId-24062.html",
         "rezultataiDaugmRpl_rpgId-24062_rplId-714446.html",
         "8",
         "Lietuvos valstiečių ir žaliųjų sąjunga",
         "2",
         "10.0",
         "5.0"
        ],
        [
         "6064",
         "rezultataiDaugmRpg_rpgId-24062.html",
         "rezultataiDaugmRpl_rpgId-24062_rplId-714446.html",
         "14",
         "Liberalų sąjūdis",
         "1",
         "5.0",
         "5.0"
        ],
        [
         "6061",
         "rezultataiDaugmRpg_rpgId-24062.html",
         "rezultataiDaugmRpl_rpgId-24062_rplId-714446.html",
         "13",
         "Tėvynės sąjunga-Lietuvos krikščionys demokratai",
         "3",
         "15.0",
         "5.0"
        ],
        [
         "6008",
         "rezultataiDaugmRpg_rpgId-24062.html",
         "rezultataiDaugmRpl_rpgId-24062_rplId-716192.html",
         "2",
         "Nacionalinis susivienijimas",
         "1",
         "5.0",
         "5.0"
        ],
        [
         "28987",
         "rezultataiDaugmRpg_rpgId-24112.html",
         "rezultataiDaugmRpl_rpgId-24112_rplId-715966.html",
         "17",
         "Lietuvos lenkų rinkimų akcija-Krikščioniškų šeimų sąjunga",
         "1",
         "5.0",
         "5.0"
        ],
        [
         "2984",
         "rezultataiDaugmRpg_rpgId-24294.html",
         "rezultataiDaugmRpl_rpgId-24294_rplId-715496.html",
         "10",
         "Partija „Laisvė ir teisingumas“",
         "3",
         "15.0",
         "5.0"
        ],
        [
         "17789",
         "rezultataiDaugmRpg_rpgId-24064.html",
         "rezultataiDaugmRpl_rpgId-24064_rplId-716864.html",
         "10",
         "Partija „Laisvė ir teisingumas“",
         "5",
         "25.0",
         "5.0"
        ],
        [
         "17770",
         "rezultataiDaugmRpg_rpgId-24064.html",
         "rezultataiDaugmRpl_rpgId-24064_rplId-715440.html",
         "9",
         "Taikos koalicija (Darbo partija, Lietuvos krikščioniškosios demokratijos partija, Žemaičių partija)",
         "1",
         "5.0",
         "5.0"
        ],
        [
         "17768",
         "rezultataiDaugmRpg_rpgId-24064.html",
         "rezultataiDaugmRpl_rpgId-24064_rplId-715440.html",
         "2",
         "Nacionalinis susivienijimas",
         "2",
         "10.0",
         "5.0"
        ],
        [
         "17827",
         "rezultataiDaugmRpg_rpgId-24276.html",
         "rezultataiDaugmRpl_rpgId-24276_rplId-717188.html",
         "17",
         "Lietuvos lenkų rinkimų akcija-Krikščioniškų šeimų sąjunga",
         "1",
         "5.0",
         "5.0"
        ],
        [
         "2993",
         "rezultataiDaugmRpg_rpgId-24294.html",
         "rezultataiDaugmRpl_rpgId-24294_rplId-717420.html",
         "2",
         "Nacionalinis susivienijimas",
         "1",
         "5.0",
         "5.0"
        ],
        [
         "2991",
         "rezultataiDaugmRpg_rpgId-24294.html",
         "rezultataiDaugmRpl_rpgId-24294_rplId-717420.html",
         "16",
         "Laisvės partija",
         "1",
         "5.0",
         "5.0"
        ],
        [
         "3038",
         "rezultataiDaugmRpg_rpgId-24294.html",
         "rezultataiDaugmRpl_rpgId-24294_rplId-715648.html",
         "2",
         "Nacionalinis susivienijimas",
         "1",
         "5.0",
         "5.0"
        ],
        [
         "28851",
         "rezultataiDaugmRpg_rpgId-24112.html",
         "rezultataiDaugmRpl_rpgId-24112_rplId-715742.html",
         "16",
         "Laisvės partija",
         "1",
         "5.0",
         "5.0"
        ],
        [
         "28840",
         "rezultataiDaugmRpg_rpgId-24112.html",
         "rezultataiDaugmRpl_rpgId-24112_rplId-715426.html",
         "9",
         "Taikos koalicija (Darbo partija, Lietuvos krikščioniškosios demokratijos partija, Žemaičių partija)",
         "1",
         "5.0",
         "5.0"
        ],
        [
         "6138",
         "rezultataiDaugmRpg_rpgId-24062.html",
         "rezultataiDaugmRpl_rpgId-24062_rplId-716206.html",
         "11",
         "Demokratų sąjunga „Vardan Lietuvos“",
         "1",
         "5.0",
         "5.0"
        ],
        [
         "6116",
         "rezultataiDaugmRpg_rpgId-24062.html",
         "rezultataiDaugmRpl_rpgId-24062_rplId-716188.html",
         "6",
         "Lietuvos regionų partija",
         "1",
         "5.0",
         "5.0"
        ],
        [
         "6110",
         "rezultataiDaugmRpg_rpgId-24062.html",
         "rezultataiDaugmRpl_rpgId-24062_rplId-716188.html",
         "8",
         "Lietuvos valstiečių ir žaliųjų sąjunga",
         "2",
         "10.0",
         "5.0"
        ],
        [
         "28957",
         "rezultataiDaugmRpg_rpgId-24112.html",
         "rezultataiDaugmRpl_rpgId-24112_rplId-715724.html",
         "17",
         "Lietuvos lenkų rinkimų akcija-Krikščioniškų šeimų sąjunga",
         "1",
         "5.0",
         "5.0"
        ],
        [
         "17601",
         "rezultataiDaugmRpg_rpgId-24064.html",
         "rezultataiDaugmRpl_rpgId-24064_rplId-716400.html",
         "16",
         "Laisvės partija",
         "4",
         "20.0",
         "5.0"
        ],
        [
         "17533",
         "rezultataiDaugmRpg_rpgId-24064.html",
         "rezultataiDaugmRpl_rpgId-24064_rplId-716878.html",
         "1",
         "Tautos ir teisingumo sąjunga (centristai, tautininkai)",
         "1",
         "5.0",
         "5.0"
        ],
        [
         "3084",
         "rezultataiDaugmRpg_rpgId-24294.html",
         "rezultataiDaugmRpl_rpgId-24294_rplId-714704.html",
         "5",
         "Lietuvos liaudies partija",
         "1",
         "5.0",
         "5.0"
        ],
        [
         "17932",
         "rezultataiDaugmRpg_rpgId-24276.html",
         "rezultataiDaugmRpl_rpgId-24276_rplId-713634.html",
         "17",
         "Lietuvos lenkų rinkimų akcija-Krikščioniškų šeimų sąjunga",
         "1",
         "5.0",
         "5.0"
        ],
        [
         "17917",
         "rezultataiDaugmRpg_rpgId-24276.html",
         "rezultataiDaugmRpl_rpgId-24276_rplId-717184.html",
         "17",
         "Lietuvos lenkų rinkimų akcija-Krikščioniškų šeimų sąjunga",
         "2",
         "10.0",
         "5.0"
        ],
        [
         "17362",
         "rezultataiDaugmRpg_rpgId-24070.html",
         "rezultataiDaugmRpl_rpgId-24070_rplId-715674.html",
         "17",
         "Lietuvos lenkų rinkimų akcija-Krikščioniškų šeimų sąjunga",
         "2",
         "10.0",
         "5.0"
        ],
        [
         "17333",
         "rezultataiDaugmRpg_rpgId-24070.html",
         "rezultataiDaugmRpl_rpgId-24070_rplId-714948.html",
         "2",
         "Nacionalinis susivienijimas",
         "1",
         "5.0",
         "5.0"
        ],
        [
         "3113",
         "rezultataiDaugmRpg_rpgId-24294.html",
         "rezultataiDaugmRpl_rpgId-24294_rplId-715500.html",
         "2",
         "Nacionalinis susivienijimas",
         "1",
         "5.0",
         "5.0"
        ],
        [
         "2944",
         "rezultataiDaugmRpg_rpgId-24294.html",
         "rezultataiDaugmRpl_rpgId-24294_rplId-715506.html",
         "14",
         "Liberalų sąjūdis",
         "1",
         "5.0",
         "5.0"
        ],
        [
         "2928",
         "rezultataiDaugmRpg_rpgId-24294.html",
         "rezultataiDaugmRpl_rpgId-24294_rplId-714182.html",
         "11",
         "Demokratų sąjunga „Vardan Lietuvos“",
         "3",
         "15.0",
         "5.0"
        ],
        [
         "17999",
         "rezultataiDaugmRpg_rpgId-24276.html",
         "rezultataiDaugmRpl_rpgId-24276_rplId-713640.html",
         "10",
         "Partija „Laisvė ir teisingumas“",
         "2",
         "10.0",
         "5.0"
        ],
        [
         "88",
         "rezultataiDaugmRpg_rpgId-24100.html",
         "rezultataiDaugmRpl_rpgId-24100_rplId-716734.html",
         "1",
         "Tautos ir teisingumo sąjunga (centristai, tautininkai)",
         "1",
         "5.0",
         "5.0"
        ],
        [
         "28822",
         "rezultataiDaugmRpg_rpgId-24112.html",
         "rezultataiDaugmRpl_rpgId-24112_rplId-715410.html",
         "17",
         "Lietuvos lenkų rinkimų akcija-Krikščioniškų šeimų sąjunga",
         "1",
         "5.0",
         "5.0"
        ],
        [
         "28821",
         "rezultataiDaugmRpg_rpgId-24112.html",
         "rezultataiDaugmRpl_rpgId-24112_rplId-715410.html",
         "16",
         "Laisvės partija",
         "5",
         "25.0",
         "5.0"
        ],
        [
         "28943",
         "rezultataiDaugmRpg_rpgId-24112.html",
         "rezultataiDaugmRpl_rpgId-24112_rplId-715744.html",
         "2",
         "Nacionalinis susivienijimas",
         "1",
         "5.0",
         "5.0"
        ],
        [
         "28926",
         "rezultataiDaugmRpg_rpgId-24112.html",
         "rezultataiDaugmRpl_rpgId-24112_rplId-714644.html",
         "16",
         "Laisvės partija",
         "2",
         "10.0",
         "5.0"
        ],
        [
         "17992",
         "rezultataiDaugmRpg_rpgId-24276.html",
         "rezultataiDaugmRpl_rpgId-24276_rplId-713640.html",
         "17",
         "Lietuvos lenkų rinkimų akcija-Krikščioniškų šeimų sąjunga",
         "2",
         "10.0",
         "5.0"
        ],
        [
         "17962",
         "rezultataiDaugmRpg_rpgId-24276.html",
         "rezultataiDaugmRpl_rpgId-24276_rplId-714250.html",
         "17",
         "Lietuvos lenkų rinkimų akcija-Krikščioniškų šeimų sąjunga",
         "2",
         "10.0",
         "5.0"
        ],
        [
         "2946",
         "rezultataiDaugmRpg_rpgId-24294.html",
         "rezultataiDaugmRpl_rpgId-24294_rplId-715506.html",
         "16",
         "Laisvės partija",
         "1",
         "5.0",
         "5.0"
        ],
        [
         "17307",
         "rezultataiDaugmRpg_rpgId-24070.html",
         "rezultataiDaugmRpl_rpgId-24070_rplId-715186.html",
         "4",
         "Lietuvos žaliųjų partija",
         "3",
         "15.0",
         "5.0"
        ],
        [
         "17306",
         "rezultataiDaugmRpg_rpgId-24070.html",
         "rezultataiDaugmRpl_rpgId-24070_rplId-715186.html",
         "6",
         "Lietuvos regionų partija",
         "1",
         "5.0",
         "5.0"
        ],
        [
         "18037",
         "rezultataiDaugmRpg_rpgId-24098.html",
         "rezultataiDaugmRpl_rpgId-24098_rplId-717156.html",
         "17",
         "Lietuvos lenkų rinkimų akcija-Krikščioniškų šeimų sąjunga",
         "4",
         "20.0",
         "5.0"
        ],
        [
         "3127",
         "rezultataiDaugmRpg_rpgId-24294.html",
         "rezultataiDaugmRpl_rpgId-24294_rplId-714252.html",
         "17",
         "Lietuvos lenkų rinkimų akcija-Krikščioniškų šeimų sąjunga",
         "1",
         "5.0",
         "5.0"
        ],
        [
         "17258",
         "rezultataiDaugmRpg_rpgId-24070.html",
         "rezultataiDaugmRpl_rpgId-24070_rplId-716726.html",
         "2",
         "Nacionalinis susivienijimas",
         "1",
         "5.0",
         "5.0"
        ],
        [
         "3147",
         "rezultataiDaugmRpg_rpgId-24294.html",
         "rezultataiDaugmRpl_rpgId-24294_rplId-715372.html",
         "4",
         "Lietuvos žaliųjų partija",
         "1",
         "5.0",
         "5.0"
        ],
        [
         "2886",
         "rezultataiDaugmRpg_rpgId-24294.html",
         "rezultataiDaugmRpl_rpgId-24294_rplId-717410.html",
         "16",
         "Laisvės partija",
         "1",
         "5.0",
         "5.0"
        ]
       ],
       "shape": {
        "columns": 7,
        "rows": 29205
       }
      },
      "text/html": [
       "<div>\n",
       "<style scoped>\n",
       "    .dataframe tbody tr th:only-of-type {\n",
       "        vertical-align: middle;\n",
       "    }\n",
       "\n",
       "    .dataframe tbody tr th {\n",
       "        vertical-align: top;\n",
       "    }\n",
       "\n",
       "    .dataframe thead th {\n",
       "        text-align: right;\n",
       "    }\n",
       "</style>\n",
       "<table border=\"1\" class=\"dataframe\">\n",
       "  <thead>\n",
       "    <tr style=\"text-align: right;\">\n",
       "      <th></th>\n",
       "      <th>apygarda</th>\n",
       "      <th>apylinke</th>\n",
       "      <th>VRK_nr</th>\n",
       "      <th>party_name</th>\n",
       "      <th>total_apylinke_votes</th>\n",
       "      <th>total_pirm_votes</th>\n",
       "      <th>rate</th>\n",
       "    </tr>\n",
       "  </thead>\n",
       "  <tbody>\n",
       "    <tr>\n",
       "      <th>29197</th>\n",
       "      <td>rezultataiDaugmRpg_rpgId-24112.html</td>\n",
       "      <td>rezultataiDaugmRpl_rpgId-24112_rplId-715726.html</td>\n",
       "      <td>17</td>\n",
       "      <td>Lietuvos lenkų rinkimų akcija-Krikščioniškų še...</td>\n",
       "      <td>1</td>\n",
       "      <td>5.0</td>\n",
       "      <td>5.0</td>\n",
       "    </tr>\n",
       "    <tr>\n",
       "      <th>3014</th>\n",
       "      <td>rezultataiDaugmRpg_rpgId-24294.html</td>\n",
       "      <td>rezultataiDaugmRpl_rpgId-24294_rplId-715504.html</td>\n",
       "      <td>10</td>\n",
       "      <td>Partija „Laisvė ir teisingumas“</td>\n",
       "      <td>1</td>\n",
       "      <td>5.0</td>\n",
       "      <td>5.0</td>\n",
       "    </tr>\n",
       "    <tr>\n",
       "      <th>17742</th>\n",
       "      <td>rezultataiDaugmRpg_rpgId-24064.html</td>\n",
       "      <td>rezultataiDaugmRpl_rpgId-24064_rplId-714738.html</td>\n",
       "      <td>4</td>\n",
       "      <td>Lietuvos žaliųjų partija</td>\n",
       "      <td>1</td>\n",
       "      <td>5.0</td>\n",
       "      <td>5.0</td>\n",
       "    </tr>\n",
       "    <tr>\n",
       "      <th>17678</th>\n",
       "      <td>rezultataiDaugmRpg_rpgId-24064.html</td>\n",
       "      <td>rezultataiDaugmRpl_rpgId-24064_rplId-713742.html</td>\n",
       "      <td>2</td>\n",
       "      <td>Nacionalinis susivienijimas</td>\n",
       "      <td>6</td>\n",
       "      <td>30.0</td>\n",
       "      <td>5.0</td>\n",
       "    </tr>\n",
       "    <tr>\n",
       "      <th>6071</th>\n",
       "      <td>rezultataiDaugmRpg_rpgId-24062.html</td>\n",
       "      <td>rezultataiDaugmRpl_rpgId-24062_rplId-714446.html</td>\n",
       "      <td>6</td>\n",
       "      <td>Lietuvos regionų partija</td>\n",
       "      <td>2</td>\n",
       "      <td>10.0</td>\n",
       "      <td>5.0</td>\n",
       "    </tr>\n",
       "    <tr>\n",
       "      <th>...</th>\n",
       "      <td>...</td>\n",
       "      <td>...</td>\n",
       "      <td>...</td>\n",
       "      <td>...</td>\n",
       "      <td>...</td>\n",
       "      <td>...</td>\n",
       "      <td>...</td>\n",
       "    </tr>\n",
       "    <tr>\n",
       "      <th>29169</th>\n",
       "      <td>rezultataiDaugmRpg_rpgId-24112.html</td>\n",
       "      <td>rezultataiDaugmRpl_rpgId-24112_rplId-715740.html</td>\n",
       "      <td>5</td>\n",
       "      <td>Lietuvos liaudies partija</td>\n",
       "      <td>0</td>\n",
       "      <td>0.0</td>\n",
       "      <td>NaN</td>\n",
       "    </tr>\n",
       "    <tr>\n",
       "      <th>29171</th>\n",
       "      <td>rezultataiDaugmRpg_rpgId-24112.html</td>\n",
       "      <td>rezultataiDaugmRpl_rpgId-24112_rplId-715740.html</td>\n",
       "      <td>6</td>\n",
       "      <td>Lietuvos regionų partija</td>\n",
       "      <td>0</td>\n",
       "      <td>0.0</td>\n",
       "      <td>NaN</td>\n",
       "    </tr>\n",
       "    <tr>\n",
       "      <th>29174</th>\n",
       "      <td>rezultataiDaugmRpg_rpgId-24112.html</td>\n",
       "      <td>rezultataiDaugmRpl_rpgId-24112_rplId-715740.html</td>\n",
       "      <td>10</td>\n",
       "      <td>Partija „Laisvė ir teisingumas“</td>\n",
       "      <td>0</td>\n",
       "      <td>0.0</td>\n",
       "      <td>NaN</td>\n",
       "    </tr>\n",
       "    <tr>\n",
       "      <th>29182</th>\n",
       "      <td>rezultataiDaugmRpg_rpgId-24112.html</td>\n",
       "      <td>rezultataiDaugmRpl_rpgId-24112_rplId-714992.html</td>\n",
       "      <td>17</td>\n",
       "      <td>Lietuvos lenkų rinkimų akcija-Krikščioniškų še...</td>\n",
       "      <td>0</td>\n",
       "      <td>0.0</td>\n",
       "      <td>NaN</td>\n",
       "    </tr>\n",
       "    <tr>\n",
       "      <th>29189</th>\n",
       "      <td>rezultataiDaugmRpg_rpgId-24112.html</td>\n",
       "      <td>rezultataiDaugmRpl_rpgId-24112_rplId-714992.html</td>\n",
       "      <td>10</td>\n",
       "      <td>Partija „Laisvė ir teisingumas“</td>\n",
       "      <td>0</td>\n",
       "      <td>0.0</td>\n",
       "      <td>NaN</td>\n",
       "    </tr>\n",
       "  </tbody>\n",
       "</table>\n",
       "<p>29205 rows × 7 columns</p>\n",
       "</div>"
      ],
      "text/plain": [
       "\n",
       "                                  apygarda  \\\n",
       "\u001b[1;36m29197\u001b[0m  rezultataiDaugmRpg_rpgId-\u001b[1;36m24112.\u001b[0mhtml   \n",
       "\u001b[1;36m3014\u001b[0m   rezultataiDaugmRpg_rpgId-\u001b[1;36m24294.\u001b[0mhtml   \n",
       "\u001b[1;36m17742\u001b[0m  rezultataiDaugmRpg_rpgId-\u001b[1;36m24064.\u001b[0mhtml   \n",
       "\u001b[1;36m17678\u001b[0m  rezultataiDaugmRpg_rpgId-\u001b[1;36m24064.\u001b[0mhtml   \n",
       "\u001b[1;36m6071\u001b[0m   rezultataiDaugmRpg_rpgId-\u001b[1;36m24062.\u001b[0mhtml   \n",
       "\u001b[33m...\u001b[0m                                    \u001b[33m...\u001b[0m   \n",
       "\u001b[1;36m29169\u001b[0m  rezultataiDaugmRpg_rpgId-\u001b[1;36m24112.\u001b[0mhtml   \n",
       "\u001b[1;36m29171\u001b[0m  rezultataiDaugmRpg_rpgId-\u001b[1;36m24112.\u001b[0mhtml   \n",
       "\u001b[1;36m29174\u001b[0m  rezultataiDaugmRpg_rpgId-\u001b[1;36m24112.\u001b[0mhtml   \n",
       "\u001b[1;36m29182\u001b[0m  rezultataiDaugmRpg_rpgId-\u001b[1;36m24112.\u001b[0mhtml   \n",
       "\u001b[1;36m29189\u001b[0m  rezultataiDaugmRpg_rpgId-\u001b[1;36m24112.\u001b[0mhtml   \n",
       "\n",
       "                                               apylinke  VRK_nr  \\\n",
       "\u001b[1;36m29197\u001b[0m  rezultataiDaugmRpl_rpgId-24112_rplId-\u001b[1;36m715726.\u001b[0mhtml      \u001b[1;36m17\u001b[0m   \n",
       "\u001b[1;36m3014\u001b[0m   rezultataiDaugmRpl_rpgId-24294_rplId-\u001b[1;36m715504.\u001b[0mhtml      \u001b[1;36m10\u001b[0m   \n",
       "\u001b[1;36m17742\u001b[0m  rezultataiDaugmRpl_rpgId-24064_rplId-\u001b[1;36m714738.\u001b[0mhtml       \u001b[1;36m4\u001b[0m   \n",
       "\u001b[1;36m17678\u001b[0m  rezultataiDaugmRpl_rpgId-24064_rplId-\u001b[1;36m713742.\u001b[0mhtml       \u001b[1;36m2\u001b[0m   \n",
       "\u001b[1;36m6071\u001b[0m   rezultataiDaugmRpl_rpgId-24062_rplId-\u001b[1;36m714446.\u001b[0mhtml       \u001b[1;36m6\u001b[0m   \n",
       "\u001b[33m...\u001b[0m                                                 \u001b[33m...\u001b[0m     \u001b[33m...\u001b[0m   \n",
       "\u001b[1;36m29169\u001b[0m  rezultataiDaugmRpl_rpgId-24112_rplId-\u001b[1;36m715740.\u001b[0mhtml       \u001b[1;36m5\u001b[0m   \n",
       "\u001b[1;36m29171\u001b[0m  rezultataiDaugmRpl_rpgId-24112_rplId-\u001b[1;36m715740.\u001b[0mhtml       \u001b[1;36m6\u001b[0m   \n",
       "\u001b[1;36m29174\u001b[0m  rezultataiDaugmRpl_rpgId-24112_rplId-\u001b[1;36m715740.\u001b[0mhtml      \u001b[1;36m10\u001b[0m   \n",
       "\u001b[1;36m29182\u001b[0m  rezultataiDaugmRpl_rpgId-24112_rplId-\u001b[1;36m714992.\u001b[0mhtml      \u001b[1;36m17\u001b[0m   \n",
       "\u001b[1;36m29189\u001b[0m  rezultataiDaugmRpl_rpgId-24112_rplId-\u001b[1;36m714992.\u001b[0mhtml      \u001b[1;36m10\u001b[0m   \n",
       "\n",
       "                                              party_name  \\\n",
       "\u001b[1;36m29197\u001b[0m  Lietuvos lenkų rinkimų akcija-Krikščioniškų še\u001b[33m...\u001b[0m   \n",
       "\u001b[1;36m3014\u001b[0m                     Partija „Laisvė ir teisingumas“   \n",
       "\u001b[1;36m17742\u001b[0m                           Lietuvos žaliųjų partija   \n",
       "\u001b[1;36m17678\u001b[0m                        Nacionalinis susivienijimas   \n",
       "\u001b[1;36m6071\u001b[0m                            Lietuvos regionų partija   \n",
       "\u001b[33m...\u001b[0m                                                  \u001b[33m...\u001b[0m   \n",
       "\u001b[1;36m29169\u001b[0m                          Lietuvos liaudies partija   \n",
       "\u001b[1;36m29171\u001b[0m                           Lietuvos regionų partija   \n",
       "\u001b[1;36m29174\u001b[0m                    Partija „Laisvė ir teisingumas“   \n",
       "\u001b[1;36m29182\u001b[0m  Lietuvos lenkų rinkimų akcija-Krikščioniškų še\u001b[33m...\u001b[0m   \n",
       "\u001b[1;36m29189\u001b[0m                    Partija „Laisvė ir teisingumas“   \n",
       "\n",
       "       total_apylinke_votes  total_pirm_votes  rate  \n",
       "\u001b[1;36m29197\u001b[0m                     \u001b[1;36m1\u001b[0m               \u001b[1;36m5.0\u001b[0m   \u001b[1;36m5.0\u001b[0m  \n",
       "\u001b[1;36m3014\u001b[0m                      \u001b[1;36m1\u001b[0m               \u001b[1;36m5.0\u001b[0m   \u001b[1;36m5.0\u001b[0m  \n",
       "\u001b[1;36m17742\u001b[0m                     \u001b[1;36m1\u001b[0m               \u001b[1;36m5.0\u001b[0m   \u001b[1;36m5.0\u001b[0m  \n",
       "\u001b[1;36m17678\u001b[0m                     \u001b[1;36m6\u001b[0m              \u001b[1;36m30.0\u001b[0m   \u001b[1;36m5.0\u001b[0m  \n",
       "\u001b[1;36m6071\u001b[0m                      \u001b[1;36m2\u001b[0m              \u001b[1;36m10.0\u001b[0m   \u001b[1;36m5.0\u001b[0m  \n",
       "\u001b[33m...\u001b[0m                     \u001b[33m...\u001b[0m               \u001b[33m...\u001b[0m   \u001b[33m...\u001b[0m  \n",
       "\u001b[1;36m29169\u001b[0m                     \u001b[1;36m0\u001b[0m               \u001b[1;36m0.0\u001b[0m   NaN  \n",
       "\u001b[1;36m29171\u001b[0m                     \u001b[1;36m0\u001b[0m               \u001b[1;36m0.0\u001b[0m   NaN  \n",
       "\u001b[1;36m29174\u001b[0m                     \u001b[1;36m0\u001b[0m               \u001b[1;36m0.0\u001b[0m   NaN  \n",
       "\u001b[1;36m29182\u001b[0m                     \u001b[1;36m0\u001b[0m               \u001b[1;36m0.0\u001b[0m   NaN  \n",
       "\u001b[1;36m29189\u001b[0m                     \u001b[1;36m0\u001b[0m               \u001b[1;36m0.0\u001b[0m   NaN  \n",
       "\n",
       "\u001b[1m[\u001b[0m\u001b[1;36m29205\u001b[0m rows x \u001b[1;36m7\u001b[0m columns\u001b[1m]\u001b[0m"
      ]
     },
     "execution_count": 68,
     "metadata": {},
     "output_type": "execute_result"
    }
   ],
   "source": [
    "df.sort_values(by='rate',ascending=False)"
   ]
  },
  {
   "cell_type": "markdown",
   "metadata": {},
   "source": [
    "# identify high rate high vote count instances\n",
    "\n",
    "Most high rate party-apylinke combinations are a result of very few people voting with a high rate of pirm votes. Of the 29205 combinations there are 957 intances when the rate is equal to 5. In these instances the average number of total votes is 1.74 with one instance where 12 votes were cast with 5 pirm votes each in the Vosiliškio apylinke voting for TS-LKD."
   ]
  },
  {
   "cell_type": "code",
   "execution_count": 80,
   "metadata": {},
   "outputs": [
    {
     "data": {
      "text/html": [
       "<pre style=\"white-space:pre;overflow-x:auto;line-height:normal;font-family:Menlo,'DejaVu Sans Mono',consolas,'Courier New',monospace\"></pre>\n"
      ],
      "text/plain": []
     },
     "metadata": {},
     "output_type": "display_data"
    },
    {
     "data": {
      "application/vnd.microsoft.datawrangler.viewer.v0+json": {
       "columns": [
        {
         "name": "index",
         "rawType": "int64",
         "type": "integer"
        },
        {
         "name": "apygarda",
         "rawType": "object",
         "type": "string"
        },
        {
         "name": "apylinke",
         "rawType": "object",
         "type": "string"
        },
        {
         "name": "VRK_nr",
         "rawType": "int64",
         "type": "integer"
        },
        {
         "name": "party_name",
         "rawType": "object",
         "type": "string"
        },
        {
         "name": "total_apylinke_votes",
         "rawType": "int64",
         "type": "integer"
        },
        {
         "name": "total_pirm_votes",
         "rawType": "float64",
         "type": "float"
        },
        {
         "name": "rate",
         "rawType": "float64",
         "type": "float"
        }
       ],
       "conversionMethod": "pd.DataFrame",
       "ref": "d49b576e-9031-497f-9093-0ed4a92c67ac",
       "rows": [
        [
         "3406",
         "rezultataiDaugmRpg_rpgId-24294.html",
         "rezultataiDaugmRpl_rpgId-24294_rplId-715512.html",
         "13",
         "Tėvynės sąjunga-Lietuvos krikščionys demokratai",
         "12",
         "60.0",
         "5.0"
        ]
       ],
       "shape": {
        "columns": 7,
        "rows": 1
       }
      },
      "text/html": [
       "<div>\n",
       "<style scoped>\n",
       "    .dataframe tbody tr th:only-of-type {\n",
       "        vertical-align: middle;\n",
       "    }\n",
       "\n",
       "    .dataframe tbody tr th {\n",
       "        vertical-align: top;\n",
       "    }\n",
       "\n",
       "    .dataframe thead th {\n",
       "        text-align: right;\n",
       "    }\n",
       "</style>\n",
       "<table border=\"1\" class=\"dataframe\">\n",
       "  <thead>\n",
       "    <tr style=\"text-align: right;\">\n",
       "      <th></th>\n",
       "      <th>apygarda</th>\n",
       "      <th>apylinke</th>\n",
       "      <th>VRK_nr</th>\n",
       "      <th>party_name</th>\n",
       "      <th>total_apylinke_votes</th>\n",
       "      <th>total_pirm_votes</th>\n",
       "      <th>rate</th>\n",
       "    </tr>\n",
       "  </thead>\n",
       "  <tbody>\n",
       "    <tr>\n",
       "      <th>3406</th>\n",
       "      <td>rezultataiDaugmRpg_rpgId-24294.html</td>\n",
       "      <td>rezultataiDaugmRpl_rpgId-24294_rplId-715512.html</td>\n",
       "      <td>13</td>\n",
       "      <td>Tėvynės sąjunga-Lietuvos krikščionys demokratai</td>\n",
       "      <td>12</td>\n",
       "      <td>60.0</td>\n",
       "      <td>5.0</td>\n",
       "    </tr>\n",
       "  </tbody>\n",
       "</table>\n",
       "</div>"
      ],
      "text/plain": [
       "\n",
       "                                 apygarda  \\\n",
       "\u001b[1;36m3406\u001b[0m  rezultataiDaugmRpg_rpgId-\u001b[1;36m24294.\u001b[0mhtml   \n",
       "\n",
       "                                              apylinke  VRK_nr  \\\n",
       "\u001b[1;36m3406\u001b[0m  rezultataiDaugmRpl_rpgId-24294_rplId-\u001b[1;36m715512.\u001b[0mhtml      \u001b[1;36m13\u001b[0m   \n",
       "\n",
       "                                           party_name  total_apylinke_votes  \\\n",
       "\u001b[1;36m3406\u001b[0m  Tėvynės sąjunga-Lietuvos krikščionys demokratai                    \u001b[1;36m12\u001b[0m   \n",
       "\n",
       "      total_pirm_votes  rate  \n",
       "\u001b[1;36m3406\u001b[0m              \u001b[1;36m60.0\u001b[0m   \u001b[1;36m5.0\u001b[0m  "
      ]
     },
     "execution_count": 80,
     "metadata": {},
     "output_type": "execute_result"
    }
   ],
   "source": [
    "rate5 = df[df.rate == 5.0]\n",
    "rate5[rate5.total_apylinke_votes == rate5.total_apylinke_votes.max()]"
   ]
  },
  {
   "cell_type": "code",
   "execution_count": 81,
   "metadata": {},
   "outputs": [
    {
     "data": {
      "text/html": [
       "<pre style=\"white-space:pre;overflow-x:auto;line-height:normal;font-family:Menlo,'DejaVu Sans Mono',consolas,'Courier New',monospace\"></pre>\n"
      ],
      "text/plain": []
     },
     "metadata": {},
     "output_type": "display_data"
    },
    {
     "data": {
      "text/plain": [
       "\n",
       "count    \u001b[1;36m957.000000\u001b[0m\n",
       "mean       \u001b[1;36m1.740857\u001b[0m\n",
       "std        \u001b[1;36m1.319207\u001b[0m\n",
       "min        \u001b[1;36m1.000000\u001b[0m\n",
       "\u001b[1;36m25\u001b[0m%        \u001b[1;36m1.000000\u001b[0m\n",
       "\u001b[1;36m50\u001b[0m%        \u001b[1;36m1.000000\u001b[0m\n",
       "\u001b[1;36m75\u001b[0m%        \u001b[1;36m2.000000\u001b[0m\n",
       "max       \u001b[1;36m12.000000\u001b[0m\n",
       "Name: total_apylinke_votes, dtype: float64"
      ]
     },
     "execution_count": 81,
     "metadata": {},
     "output_type": "execute_result"
    }
   ],
   "source": [
    "df[df.rate == 5.0].total_apylinke_votes.describe()"
   ]
  },
  {
   "cell_type": "code",
   "execution_count": 82,
   "metadata": {},
   "outputs": [
    {
     "data": {
      "text/html": [
       "<pre style=\"white-space:pre;overflow-x:auto;line-height:normal;font-family:Menlo,'DejaVu Sans Mono',consolas,'Courier New',monospace\"></pre>\n"
      ],
      "text/plain": []
     },
     "metadata": {},
     "output_type": "display_data"
    },
    {
     "data": {
      "text/plain": [
       "\u001b[1m<\u001b[0m\u001b[1;95mAxes:\u001b[0m\u001b[39m \u001b[0m\u001b[1m>\u001b[0m"
      ]
     },
     "execution_count": 82,
     "metadata": {},
     "output_type": "execute_result"
    },
    {
     "data": {
      "text/html": [
       "<pre style=\"white-space:pre;overflow-x:auto;line-height:normal;font-family:Menlo,'DejaVu Sans Mono',consolas,'Courier New',monospace\"></pre>\n"
      ],
      "text/plain": []
     },
     "metadata": {},
     "output_type": "display_data"
    },
    {
     "data": {
      "image/png": "[encoded data removed]",
      "text/plain": [
       "\u001b[1m<\u001b[0m\u001b[1;95mFigure\u001b[0m\u001b[39m size 64\u001b[0m\u001b[1;36m0x480\u001b[0m\u001b[39m with \u001b[0m\u001b[1;36m1\u001b[0m\u001b[39m Axes\u001b[0m\u001b[1m>\u001b[0m"
      ]
     },
     "metadata": {},
     "output_type": "display_data"
    }
   ],
   "source": [
    "df.rate.hist()"
   ]
  },
  {
   "cell_type": "markdown",
   "metadata": {},
   "source": [
    "Thus low vote count implies high volatility in the resulting rates, so in further observations that got less than 100 votes, that is all instances where a party got less than 100 votes in an apylinke are removed. This trims the dataset from 29205 observations to 3618 observations. In the resulting dataset the average rate is 2.826 with a median of 2.826. The minimum rate observed id 1.29, maximum: 4.94."
   ]
  },
  {
   "cell_type": "code",
   "execution_count": 106,
   "metadata": {},
   "outputs": [
    {
     "data": {
      "text/html": [
       "<pre style=\"white-space:pre;overflow-x:auto;line-height:normal;font-family:Menlo,'DejaVu Sans Mono',consolas,'Courier New',monospace\"></pre>\n"
      ],
      "text/plain": []
     },
     "metadata": {},
     "output_type": "display_data"
    },
    {
     "data": {
      "text/plain": [
       "\n",
       "count    \u001b[1;36m3618.000000\u001b[0m\n",
       "mean        \u001b[1;36m2.825848\u001b[0m\n",
       "std         \u001b[1;36m0.501545\u001b[0m\n",
       "min         \u001b[1;36m1.293605\u001b[0m\n",
       "\u001b[1;36m25\u001b[0m%         \u001b[1;36m2.448407\u001b[0m\n",
       "\u001b[1;36m50\u001b[0m%         \u001b[1;36m2.825888\u001b[0m\n",
       "\u001b[1;36m75\u001b[0m%         \u001b[1;36m3.225169\u001b[0m\n",
       "max         \u001b[1;36m4.942675\u001b[0m\n",
       "Name: rate, dtype: float64"
      ]
     },
     "execution_count": 106,
     "metadata": {},
     "output_type": "execute_result"
    },
    {
     "data": {
      "text/html": [
       "<pre style=\"white-space:pre;overflow-x:auto;line-height:normal;font-family:Menlo,'DejaVu Sans Mono',consolas,'Courier New',monospace\"></pre>\n"
      ],
      "text/plain": []
     },
     "metadata": {},
     "output_type": "display_data"
    },
    {
     "data": {
      "image/png": "[encoded data removed]",
      "text/plain": [
       "\u001b[1m<\u001b[0m\u001b[1;95mFigure\u001b[0m\u001b[39m size 64\u001b[0m\u001b[1;36m0x480\u001b[0m\u001b[39m with \u001b[0m\u001b[1;36m1\u001b[0m\u001b[39m Axes\u001b[0m\u001b[1m>\u001b[0m"
      ]
     },
     "metadata": {},
     "output_type": "display_data"
    }
   ],
   "source": [
    "high_rate = df[df.total_apylinke_votes >= 100]\n",
    "high_rate.rate.hist()\n",
    "high_rate.rate.describe()"
   ]
  },
  {
   "cell_type": "markdown",
   "metadata": {},
   "source": [
    "If we assume only the very high rates with many votes to be suspect we can remove observations with rate lower than 4.0 thus getting the table below. As can be seen 8 of the 12 observation be long to one party the Lietuvos lenkų rinkimų akcija-Krikščioniškų šeimų sąjunga, three to Tėvynės sąjunga-Lietuvos krikščionys demokratai and one to Lietuvos valstiečių ir žaliųjų sąjunga. The apygarda variables for observations that are not from the Lietuvos lenkų rinkimų akcija-Krikščioniškų šeimų sąjunga are all unique, however for the 8 Lietuvos lenkų rinkimų akcija-Krikščioniškų šeimų sąjunga observations the apygarda is always the Šalčininkų–Vilniaus (Nr.56) apygarda."
   ]
  },
  {
   "cell_type": "code",
   "execution_count": 107,
   "metadata": {},
   "outputs": [
    {
     "data": {
      "text/html": [
       "<pre style=\"white-space:pre;overflow-x:auto;line-height:normal;font-family:Menlo,'DejaVu Sans Mono',consolas,'Courier New',monospace\"></pre>\n"
      ],
      "text/plain": []
     },
     "metadata": {},
     "output_type": "display_data"
    },
    {
     "data": {
      "application/vnd.microsoft.datawrangler.viewer.v0+json": {
       "columns": [
        {
         "name": "index",
         "rawType": "int64",
         "type": "integer"
        },
        {
         "name": "apygarda",
         "rawType": "object",
         "type": "string"
        },
        {
         "name": "apylinke",
         "rawType": "object",
         "type": "string"
        },
        {
         "name": "VRK_nr",
         "rawType": "int64",
         "type": "integer"
        },
        {
         "name": "party_name",
         "rawType": "object",
         "type": "string"
        },
        {
         "name": "total_apylinke_votes",
         "rawType": "int64",
         "type": "integer"
        },
        {
         "name": "total_pirm_votes",
         "rawType": "float64",
         "type": "float"
        },
        {
         "name": "rate",
         "rawType": "float64",
         "type": "float"
        }
       ],
       "conversionMethod": "pd.DataFrame",
       "ref": "43986751-84db-416c-88b1-682aeb60cd24",
       "rows": [
        [
         "6502",
         "rezultataiDaugmRpg_rpgId-24062.html",
         "rezultataiDaugmRpl_rpgId-24062_rplId-716058.html",
         "17",
         "Lietuvos lenkų rinkimų akcija-Krikščioniškų šeimų sąjunga",
         "157",
         "776.0",
         "4.942675159235669"
        ],
        [
         "6157",
         "rezultataiDaugmRpg_rpgId-24062.html",
         "rezultataiDaugmRpl_rpgId-24062_rplId-716202.html",
         "17",
         "Lietuvos lenkų rinkimų akcija-Krikščioniškų šeimų sąjunga",
         "326",
         "1563.0",
         "4.794478527607362"
        ],
        [
         "5902",
         "rezultataiDaugmRpg_rpgId-24062.html",
         "rezultataiDaugmRpl_rpgId-24062_rplId-716196.html",
         "17",
         "Lietuvos lenkų rinkimų akcija-Krikščioniškų šeimų sąjunga",
         "534",
         "2512.0",
         "4.704119850187266"
        ],
        [
         "6262",
         "rezultataiDaugmRpg_rpgId-24062.html",
         "rezultataiDaugmRpl_rpgId-24062_rplId-713174.html",
         "17",
         "Lietuvos lenkų rinkimų akcija-Krikščioniškų šeimų sąjunga",
         "138",
         "617.0",
         "4.471014492753623"
        ],
        [
         "13186",
         "rezultataiDaugmRpg_rpgId-24262.html",
         "rezultataiDaugmRpl_rpgId-24262_rplId-717506.html",
         "13",
         "Tėvynės sąjunga-Lietuvos krikščionys demokratai",
         "541",
         "2385.0",
         "4.408502772643253"
        ],
        [
         "6397",
         "rezultataiDaugmRpg_rpgId-24062.html",
         "rezultataiDaugmRpl_rpgId-24062_rplId-716060.html",
         "17",
         "Lietuvos lenkų rinkimų akcija-Krikščioniškų šeimų sąjunga",
         "238",
         "986.0",
         "4.142857142857143"
        ],
        [
         "5872",
         "rezultataiDaugmRpg_rpgId-24062.html",
         "rezultataiDaugmRpl_rpgId-24062_rplId-716052.html",
         "17",
         "Lietuvos lenkų rinkimų akcija-Krikščioniškų šeimų sąjunga",
         "314",
         "1293.0",
         "4.117834394904459"
        ],
        [
         "6232",
         "rezultataiDaugmRpg_rpgId-24062.html",
         "rezultataiDaugmRpl_rpgId-24062_rplId-717060.html",
         "17",
         "Lietuvos lenkų rinkimų akcija-Krikščioniškų šeimų sąjunga",
         "257",
         "1049.0",
         "4.081712062256809"
        ],
        [
         "27886",
         "rezultataiDaugmRpg_rpgId-24118.html",
         "rezultataiDaugmRpl_rpgId-24118_rplId-716138.html",
         "13",
         "Tėvynės sąjunga-Lietuvos krikščionys demokratai",
         "115",
         "467.0",
         "4.060869565217391"
        ],
        [
         "4520",
         "rezultataiDaugmRpg_rpgId-24272.html",
         "rezultataiDaugmRpl_rpgId-24272_rplId-717166.html",
         "8",
         "Lietuvos valstiečių ir žaliųjų sąjunga",
         "120",
         "487.0",
         "4.058333333333334"
        ],
        [
         "2356",
         "rezultataiDaugmRpg_rpgId-24280.html",
         "rezultataiDaugmRpl_rpgId-24280_rplId-713272.html",
         "13",
         "Tėvynės sąjunga-Lietuvos krikščionys demokratai",
         "121",
         "490.0",
         "4.049586776859504"
        ],
        [
         "6142",
         "rezultataiDaugmRpg_rpgId-24062.html",
         "rezultataiDaugmRpl_rpgId-24062_rplId-716206.html",
         "17",
         "Lietuvos lenkų rinkimų akcija-Krikščioniškų šeimų sąjunga",
         "224",
         "901.0",
         "4.022321428571429"
        ]
       ],
       "shape": {
        "columns": 7,
        "rows": 12
       }
      },
      "text/html": [
       "<div>\n",
       "<style scoped>\n",
       "    .dataframe tbody tr th:only-of-type {\n",
       "        vertical-align: middle;\n",
       "    }\n",
       "\n",
       "    .dataframe tbody tr th {\n",
       "        vertical-align: top;\n",
       "    }\n",
       "\n",
       "    .dataframe thead th {\n",
       "        text-align: right;\n",
       "    }\n",
       "</style>\n",
       "<table border=\"1\" class=\"dataframe\">\n",
       "  <thead>\n",
       "    <tr style=\"text-align: right;\">\n",
       "      <th></th>\n",
       "      <th>apygarda</th>\n",
       "      <th>apylinke</th>\n",
       "      <th>VRK_nr</th>\n",
       "      <th>party_name</th>\n",
       "      <th>total_apylinke_votes</th>\n",
       "      <th>total_pirm_votes</th>\n",
       "      <th>rate</th>\n",
       "    </tr>\n",
       "  </thead>\n",
       "  <tbody>\n",
       "    <tr>\n",
       "      <th>6502</th>\n",
       "      <td>rezultataiDaugmRpg_rpgId-24062.html</td>\n",
       "      <td>rezultataiDaugmRpl_rpgId-24062_rplId-716058.html</td>\n",
       "      <td>17</td>\n",
       "      <td>Lietuvos lenkų rinkimų akcija-Krikščioniškų še...</td>\n",
       "      <td>157</td>\n",
       "      <td>776.0</td>\n",
       "      <td>4.942675</td>\n",
       "    </tr>\n",
       "    <tr>\n",
       "      <th>6157</th>\n",
       "      <td>rezultataiDaugmRpg_rpgId-24062.html</td>\n",
       "      <td>rezultataiDaugmRpl_rpgId-24062_rplId-716202.html</td>\n",
       "      <td>17</td>\n",
       "      <td>Lietuvos lenkų rinkimų akcija-Krikščioniškų še...</td>\n",
       "      <td>326</td>\n",
       "      <td>1563.0</td>\n",
       "      <td>4.794479</td>\n",
       "    </tr>\n",
       "    <tr>\n",
       "      <th>5902</th>\n",
       "      <td>rezultataiDaugmRpg_rpgId-24062.html</td>\n",
       "      <td>rezultataiDaugmRpl_rpgId-24062_rplId-716196.html</td>\n",
       "      <td>17</td>\n",
       "      <td>Lietuvos lenkų rinkimų akcija-Krikščioniškų še...</td>\n",
       "      <td>534</td>\n",
       "      <td>2512.0</td>\n",
       "      <td>4.704120</td>\n",
       "    </tr>\n",
       "    <tr>\n",
       "      <th>6262</th>\n",
       "      <td>rezultataiDaugmRpg_rpgId-24062.html</td>\n",
       "      <td>rezultataiDaugmRpl_rpgId-24062_rplId-713174.html</td>\n",
       "      <td>17</td>\n",
       "      <td>Lietuvos lenkų rinkimų akcija-Krikščioniškų še...</td>\n",
       "      <td>138</td>\n",
       "      <td>617.0</td>\n",
       "      <td>4.471014</td>\n",
       "    </tr>\n",
       "    <tr>\n",
       "      <th>13186</th>\n",
       "      <td>rezultataiDaugmRpg_rpgId-24262.html</td>\n",
       "      <td>rezultataiDaugmRpl_rpgId-24262_rplId-717506.html</td>\n",
       "      <td>13</td>\n",
       "      <td>Tėvynės sąjunga-Lietuvos krikščionys demokratai</td>\n",
       "      <td>541</td>\n",
       "      <td>2385.0</td>\n",
       "      <td>4.408503</td>\n",
       "    </tr>\n",
       "    <tr>\n",
       "      <th>6397</th>\n",
       "      <td>rezultataiDaugmRpg_rpgId-24062.html</td>\n",
       "      <td>rezultataiDaugmRpl_rpgId-24062_rplId-716060.html</td>\n",
       "      <td>17</td>\n",
       "      <td>Lietuvos lenkų rinkimų akcija-Krikščioniškų še...</td>\n",
       "      <td>238</td>\n",
       "      <td>986.0</td>\n",
       "      <td>4.142857</td>\n",
       "    </tr>\n",
       "    <tr>\n",
       "      <th>5872</th>\n",
       "      <td>rezultataiDaugmRpg_rpgId-24062.html</td>\n",
       "      <td>rezultataiDaugmRpl_rpgId-24062_rplId-716052.html</td>\n",
       "      <td>17</td>\n",
       "      <td>Lietuvos lenkų rinkimų akcija-Krikščioniškų še...</td>\n",
       "      <td>314</td>\n",
       "      <td>1293.0</td>\n",
       "      <td>4.117834</td>\n",
       "    </tr>\n",
       "    <tr>\n",
       "      <th>6232</th>\n",
       "      <td>rezultataiDaugmRpg_rpgId-24062.html</td>\n",
       "      <td>rezultataiDaugmRpl_rpgId-24062_rplId-717060.html</td>\n",
       "      <td>17</td>\n",
       "      <td>Lietuvos lenkų rinkimų akcija-Krikščioniškų še...</td>\n",
       "      <td>257</td>\n",
       "      <td>1049.0</td>\n",
       "      <td>4.081712</td>\n",
       "    </tr>\n",
       "    <tr>\n",
       "      <th>27886</th>\n",
       "      <td>rezultataiDaugmRpg_rpgId-24118.html</td>\n",
       "      <td>rezultataiDaugmRpl_rpgId-24118_rplId-716138.html</td>\n",
       "      <td>13</td>\n",
       "      <td>Tėvynės sąjunga-Lietuvos krikščionys demokratai</td>\n",
       "      <td>115</td>\n",
       "      <td>467.0</td>\n",
       "      <td>4.060870</td>\n",
       "    </tr>\n",
       "    <tr>\n",
       "      <th>4520</th>\n",
       "      <td>rezultataiDaugmRpg_rpgId-24272.html</td>\n",
       "      <td>rezultataiDaugmRpl_rpgId-24272_rplId-717166.html</td>\n",
       "      <td>8</td>\n",
       "      <td>Lietuvos valstiečių ir žaliųjų sąjunga</td>\n",
       "      <td>120</td>\n",
       "      <td>487.0</td>\n",
       "      <td>4.058333</td>\n",
       "    </tr>\n",
       "    <tr>\n",
       "      <th>2356</th>\n",
       "      <td>rezultataiDaugmRpg_rpgId-24280.html</td>\n",
       "      <td>rezultataiDaugmRpl_rpgId-24280_rplId-713272.html</td>\n",
       "      <td>13</td>\n",
       "      <td>Tėvynės sąjunga-Lietuvos krikščionys demokratai</td>\n",
       "      <td>121</td>\n",
       "      <td>490.0</td>\n",
       "      <td>4.049587</td>\n",
       "    </tr>\n",
       "    <tr>\n",
       "      <th>6142</th>\n",
       "      <td>rezultataiDaugmRpg_rpgId-24062.html</td>\n",
       "      <td>rezultataiDaugmRpl_rpgId-24062_rplId-716206.html</td>\n",
       "      <td>17</td>\n",
       "      <td>Lietuvos lenkų rinkimų akcija-Krikščioniškų še...</td>\n",
       "      <td>224</td>\n",
       "      <td>901.0</td>\n",
       "      <td>4.022321</td>\n",
       "    </tr>\n",
       "  </tbody>\n",
       "</table>\n",
       "</div>"
      ],
      "text/plain": [
       "\n",
       "                                  apygarda  \\\n",
       "\u001b[1;36m6502\u001b[0m   rezultataiDaugmRpg_rpgId-\u001b[1;36m24062.\u001b[0mhtml   \n",
       "\u001b[1;36m6157\u001b[0m   rezultataiDaugmRpg_rpgId-\u001b[1;36m24062.\u001b[0mhtml   \n",
       "\u001b[1;36m5902\u001b[0m   rezultataiDaugmRpg_rpgId-\u001b[1;36m24062.\u001b[0mhtml   \n",
       "\u001b[1;36m6262\u001b[0m   rezultataiDaugmRpg_rpgId-\u001b[1;36m24062.\u001b[0mhtml   \n",
       "\u001b[1;36m13186\u001b[0m  rezultataiDaugmRpg_rpgId-\u001b[1;36m24262.\u001b[0mhtml   \n",
       "\u001b[1;36m6397\u001b[0m   rezultataiDaugmRpg_rpgId-\u001b[1;36m24062.\u001b[0mhtml   \n",
       "\u001b[1;36m5872\u001b[0m   rezultataiDaugmRpg_rpgId-\u001b[1;36m24062.\u001b[0mhtml   \n",
       "\u001b[1;36m6232\u001b[0m   rezultataiDaugmRpg_rpgId-\u001b[1;36m24062.\u001b[0mhtml   \n",
       "\u001b[1;36m27886\u001b[0m  rezultataiDaugmRpg_rpgId-\u001b[1;36m24118.\u001b[0mhtml   \n",
       "\u001b[1;36m4520\u001b[0m   rezultataiDaugmRpg_rpgId-\u001b[1;36m24272.\u001b[0mhtml   \n",
       "\u001b[1;36m2356\u001b[0m   rezultataiDaugmRpg_rpgId-\u001b[1;36m24280.\u001b[0mhtml   \n",
       "\u001b[1;36m6142\u001b[0m   rezultataiDaugmRpg_rpgId-\u001b[1;36m24062.\u001b[0mhtml   \n",
       "\n",
       "                                               apylinke  VRK_nr  \\\n",
       "\u001b[1;36m6502\u001b[0m   rezultataiDaugmRpl_rpgId-24062_rplId-\u001b[1;36m716058.\u001b[0mhtml      \u001b[1;36m17\u001b[0m   \n",
       "\u001b[1;36m6157\u001b[0m   rezultataiDaugmRpl_rpgId-24062_rplId-\u001b[1;36m716202.\u001b[0mhtml      \u001b[1;36m17\u001b[0m   \n",
       "\u001b[1;36m5902\u001b[0m   rezultataiDaugmRpl_rpgId-24062_rplId-\u001b[1;36m716196.\u001b[0mhtml      \u001b[1;36m17\u001b[0m   \n",
       "\u001b[1;36m6262\u001b[0m   rezultataiDaugmRpl_rpgId-24062_rplId-\u001b[1;36m713174.\u001b[0mhtml      \u001b[1;36m17\u001b[0m   \n",
       "\u001b[1;36m13186\u001b[0m  rezultataiDaugmRpl_rpgId-24262_rplId-\u001b[1;36m717506.\u001b[0mhtml      \u001b[1;36m13\u001b[0m   \n",
       "\u001b[1;36m6397\u001b[0m   rezultataiDaugmRpl_rpgId-24062_rplId-\u001b[1;36m716060.\u001b[0mhtml      \u001b[1;36m17\u001b[0m   \n",
       "\u001b[1;36m5872\u001b[0m   rezultataiDaugmRpl_rpgId-24062_rplId-\u001b[1;36m716052.\u001b[0mhtml      \u001b[1;36m17\u001b[0m   \n",
       "\u001b[1;36m6232\u001b[0m   rezultataiDaugmRpl_rpgId-24062_rplId-\u001b[1;36m717060.\u001b[0mhtml      \u001b[1;36m17\u001b[0m   \n",
       "\u001b[1;36m27886\u001b[0m  rezultataiDaugmRpl_rpgId-24118_rplId-\u001b[1;36m716138.\u001b[0mhtml      \u001b[1;36m13\u001b[0m   \n",
       "\u001b[1;36m4520\u001b[0m   rezultataiDaugmRpl_rpgId-24272_rplId-\u001b[1;36m717166.\u001b[0mhtml       \u001b[1;36m8\u001b[0m   \n",
       "\u001b[1;36m2356\u001b[0m   rezultataiDaugmRpl_rpgId-24280_rplId-\u001b[1;36m713272.\u001b[0mhtml      \u001b[1;36m13\u001b[0m   \n",
       "\u001b[1;36m6142\u001b[0m   rezultataiDaugmRpl_rpgId-24062_rplId-\u001b[1;36m716206.\u001b[0mhtml      \u001b[1;36m17\u001b[0m   \n",
       "\n",
       "                                              party_name  \\\n",
       "\u001b[1;36m6502\u001b[0m   Lietuvos lenkų rinkimų akcija-Krikščioniškų še\u001b[33m...\u001b[0m   \n",
       "\u001b[1;36m6157\u001b[0m   Lietuvos lenkų rinkimų akcija-Krikščioniškų še\u001b[33m...\u001b[0m   \n",
       "\u001b[1;36m5902\u001b[0m   Lietuvos lenkų rinkimų akcija-Krikščioniškų še\u001b[33m...\u001b[0m   \n",
       "\u001b[1;36m6262\u001b[0m   Lietuvos lenkų rinkimų akcija-Krikščioniškų še\u001b[33m...\u001b[0m   \n",
       "\u001b[1;36m13186\u001b[0m    Tėvynės sąjunga-Lietuvos krikščionys demokratai   \n",
       "\u001b[1;36m6397\u001b[0m   Lietuvos lenkų rinkimų akcija-Krikščioniškų še\u001b[33m...\u001b[0m   \n",
       "\u001b[1;36m5872\u001b[0m   Lietuvos lenkų rinkimų akcija-Krikščioniškų še\u001b[33m...\u001b[0m   \n",
       "\u001b[1;36m6232\u001b[0m   Lietuvos lenkų rinkimų akcija-Krikščioniškų še\u001b[33m...\u001b[0m   \n",
       "\u001b[1;36m27886\u001b[0m    Tėvynės sąjunga-Lietuvos krikščionys demokratai   \n",
       "\u001b[1;36m4520\u001b[0m              Lietuvos valstiečių ir žaliųjų sąjunga   \n",
       "\u001b[1;36m2356\u001b[0m     Tėvynės sąjunga-Lietuvos krikščionys demokratai   \n",
       "\u001b[1;36m6142\u001b[0m   Lietuvos lenkų rinkimų akcija-Krikščioniškų še\u001b[33m...\u001b[0m   \n",
       "\n",
       "       total_apylinke_votes  total_pirm_votes      rate  \n",
       "\u001b[1;36m6502\u001b[0m                    \u001b[1;36m157\u001b[0m             \u001b[1;36m776.0\u001b[0m  \u001b[1;36m4.942675\u001b[0m  \n",
       "\u001b[1;36m6157\u001b[0m                    \u001b[1;36m326\u001b[0m            \u001b[1;36m1563.0\u001b[0m  \u001b[1;36m4.794479\u001b[0m  \n",
       "\u001b[1;36m5902\u001b[0m                    \u001b[1;36m534\u001b[0m            \u001b[1;36m2512.0\u001b[0m  \u001b[1;36m4.704120\u001b[0m  \n",
       "\u001b[1;36m6262\u001b[0m                    \u001b[1;36m138\u001b[0m             \u001b[1;36m617.0\u001b[0m  \u001b[1;36m4.471014\u001b[0m  \n",
       "\u001b[1;36m13186\u001b[0m                   \u001b[1;36m541\u001b[0m            \u001b[1;36m2385.0\u001b[0m  \u001b[1;36m4.408503\u001b[0m  \n",
       "\u001b[1;36m6397\u001b[0m                    \u001b[1;36m238\u001b[0m             \u001b[1;36m986.0\u001b[0m  \u001b[1;36m4.142857\u001b[0m  \n",
       "\u001b[1;36m5872\u001b[0m                    \u001b[1;36m314\u001b[0m            \u001b[1;36m1293.0\u001b[0m  \u001b[1;36m4.117834\u001b[0m  \n",
       "\u001b[1;36m6232\u001b[0m                    \u001b[1;36m257\u001b[0m            \u001b[1;36m1049.0\u001b[0m  \u001b[1;36m4.081712\u001b[0m  \n",
       "\u001b[1;36m27886\u001b[0m                   \u001b[1;36m115\u001b[0m             \u001b[1;36m467.0\u001b[0m  \u001b[1;36m4.060870\u001b[0m  \n",
       "\u001b[1;36m4520\u001b[0m                    \u001b[1;36m120\u001b[0m             \u001b[1;36m487.0\u001b[0m  \u001b[1;36m4.058333\u001b[0m  \n",
       "\u001b[1;36m2356\u001b[0m                    \u001b[1;36m121\u001b[0m             \u001b[1;36m490.0\u001b[0m  \u001b[1;36m4.049587\u001b[0m  \n",
       "\u001b[1;36m6142\u001b[0m                    \u001b[1;36m224\u001b[0m             \u001b[1;36m901.0\u001b[0m  \u001b[1;36m4.022321\u001b[0m  "
      ]
     },
     "execution_count": 107,
     "metadata": {},
     "output_type": "execute_result"
    }
   ],
   "source": [
    "high_rate = high_rate[high_rate.rate > 4.0]\n",
    "high_rate.sort_values(by='rate',ascending=False)"
   ]
  },
  {
   "cell_type": "markdown",
   "metadata": {},
   "source": [
    "Next we look at the top 5 observations in terms of rate. Of these 4 are from Lietuvos lenkų rinkimų akcija-Krikščioniškų šeimų sąjunga and one from Tėvynės sąjunga-Lietuvos krikščionys demokratai. The top 4 observations belong to Lietuvos lenkų rinkimų akcija-Krikščioniškų šeimų sąjunga the highest rate of these reaching a whoping 4.94 in the Jančiūnų (Nr.11) apylinke. In total 157 votes were cast for the party and 776 pirm votes were placed, theoretically the maximum number of pirm votes cast is 785 of of the ways that this result was reached is that 148 voters of the 157 cast 5 pirm votes and 9 voters cast 4 pirm votes - a simply unbelievable result."
   ]
  },
  {
   "cell_type": "code",
   "execution_count": 108,
   "metadata": {},
   "outputs": [],
   "source": [
    "high_rate = high_rate[high_rate.rate > 4.3]"
   ]
  },
  {
   "cell_type": "code",
   "execution_count": 109,
   "metadata": {},
   "outputs": [
    {
     "data": {
      "text/html": [
       "<pre style=\"white-space:pre;overflow-x:auto;line-height:normal;font-family:Menlo,'DejaVu Sans Mono',consolas,'Courier New',monospace\"></pre>\n"
      ],
      "text/plain": []
     },
     "metadata": {},
     "output_type": "display_data"
    },
    {
     "data": {
      "application/vnd.microsoft.datawrangler.viewer.v0+json": {
       "columns": [
        {
         "name": "index",
         "rawType": "int64",
         "type": "integer"
        },
        {
         "name": "apygarda",
         "rawType": "object",
         "type": "string"
        },
        {
         "name": "apylinke",
         "rawType": "object",
         "type": "string"
        },
        {
         "name": "VRK_nr",
         "rawType": "int64",
         "type": "integer"
        },
        {
         "name": "party_name",
         "rawType": "object",
         "type": "string"
        },
        {
         "name": "total_apylinke_votes",
         "rawType": "int64",
         "type": "integer"
        },
        {
         "name": "total_pirm_votes",
         "rawType": "float64",
         "type": "float"
        },
        {
         "name": "rate",
         "rawType": "float64",
         "type": "float"
        }
       ],
       "conversionMethod": "pd.DataFrame",
       "ref": "afcbd60e-4d91-4f2f-9ebd-3f17c6743eff",
       "rows": [
        [
         "6502",
         "rezultataiDaugmRpg_rpgId-24062.html",
         "rezultataiDaugmRpl_rpgId-24062_rplId-716058.html",
         "17",
         "Lietuvos lenkų rinkimų akcija-Krikščioniškų šeimų sąjunga",
         "157",
         "776.0",
         "4.942675159235669"
        ],
        [
         "6157",
         "rezultataiDaugmRpg_rpgId-24062.html",
         "rezultataiDaugmRpl_rpgId-24062_rplId-716202.html",
         "17",
         "Lietuvos lenkų rinkimų akcija-Krikščioniškų šeimų sąjunga",
         "326",
         "1563.0",
         "4.794478527607362"
        ],
        [
         "5902",
         "rezultataiDaugmRpg_rpgId-24062.html",
         "rezultataiDaugmRpl_rpgId-24062_rplId-716196.html",
         "17",
         "Lietuvos lenkų rinkimų akcija-Krikščioniškų šeimų sąjunga",
         "534",
         "2512.0",
         "4.704119850187266"
        ],
        [
         "6262",
         "rezultataiDaugmRpg_rpgId-24062.html",
         "rezultataiDaugmRpl_rpgId-24062_rplId-713174.html",
         "17",
         "Lietuvos lenkų rinkimų akcija-Krikščioniškų šeimų sąjunga",
         "138",
         "617.0",
         "4.471014492753623"
        ],
        [
         "13186",
         "rezultataiDaugmRpg_rpgId-24262.html",
         "rezultataiDaugmRpl_rpgId-24262_rplId-717506.html",
         "13",
         "Tėvynės sąjunga-Lietuvos krikščionys demokratai",
         "541",
         "2385.0",
         "4.408502772643253"
        ]
       ],
       "shape": {
        "columns": 7,
        "rows": 5
       }
      },
      "text/html": [
       "<div>\n",
       "<style scoped>\n",
       "    .dataframe tbody tr th:only-of-type {\n",
       "        vertical-align: middle;\n",
       "    }\n",
       "\n",
       "    .dataframe tbody tr th {\n",
       "        vertical-align: top;\n",
       "    }\n",
       "\n",
       "    .dataframe thead th {\n",
       "        text-align: right;\n",
       "    }\n",
       "</style>\n",
       "<table border=\"1\" class=\"dataframe\">\n",
       "  <thead>\n",
       "    <tr style=\"text-align: right;\">\n",
       "      <th></th>\n",
       "      <th>apygarda</th>\n",
       "      <th>apylinke</th>\n",
       "      <th>VRK_nr</th>\n",
       "      <th>party_name</th>\n",
       "      <th>total_apylinke_votes</th>\n",
       "      <th>total_pirm_votes</th>\n",
       "      <th>rate</th>\n",
       "    </tr>\n",
       "  </thead>\n",
       "  <tbody>\n",
       "    <tr>\n",
       "      <th>6502</th>\n",
       "      <td>rezultataiDaugmRpg_rpgId-24062.html</td>\n",
       "      <td>rezultataiDaugmRpl_rpgId-24062_rplId-716058.html</td>\n",
       "      <td>17</td>\n",
       "      <td>Lietuvos lenkų rinkimų akcija-Krikščioniškų še...</td>\n",
       "      <td>157</td>\n",
       "      <td>776.0</td>\n",
       "      <td>4.942675</td>\n",
       "    </tr>\n",
       "    <tr>\n",
       "      <th>6157</th>\n",
       "      <td>rezultataiDaugmRpg_rpgId-24062.html</td>\n",
       "      <td>rezultataiDaugmRpl_rpgId-24062_rplId-716202.html</td>\n",
       "      <td>17</td>\n",
       "      <td>Lietuvos lenkų rinkimų akcija-Krikščioniškų še...</td>\n",
       "      <td>326</td>\n",
       "      <td>1563.0</td>\n",
       "      <td>4.794479</td>\n",
       "    </tr>\n",
       "    <tr>\n",
       "      <th>5902</th>\n",
       "      <td>rezultataiDaugmRpg_rpgId-24062.html</td>\n",
       "      <td>rezultataiDaugmRpl_rpgId-24062_rplId-716196.html</td>\n",
       "      <td>17</td>\n",
       "      <td>Lietuvos lenkų rinkimų akcija-Krikščioniškų še...</td>\n",
       "      <td>534</td>\n",
       "      <td>2512.0</td>\n",
       "      <td>4.704120</td>\n",
       "    </tr>\n",
       "    <tr>\n",
       "      <th>6262</th>\n",
       "      <td>rezultataiDaugmRpg_rpgId-24062.html</td>\n",
       "      <td>rezultataiDaugmRpl_rpgId-24062_rplId-713174.html</td>\n",
       "      <td>17</td>\n",
       "      <td>Lietuvos lenkų rinkimų akcija-Krikščioniškų še...</td>\n",
       "      <td>138</td>\n",
       "      <td>617.0</td>\n",
       "      <td>4.471014</td>\n",
       "    </tr>\n",
       "    <tr>\n",
       "      <th>13186</th>\n",
       "      <td>rezultataiDaugmRpg_rpgId-24262.html</td>\n",
       "      <td>rezultataiDaugmRpl_rpgId-24262_rplId-717506.html</td>\n",
       "      <td>13</td>\n",
       "      <td>Tėvynės sąjunga-Lietuvos krikščionys demokratai</td>\n",
       "      <td>541</td>\n",
       "      <td>2385.0</td>\n",
       "      <td>4.408503</td>\n",
       "    </tr>\n",
       "  </tbody>\n",
       "</table>\n",
       "</div>"
      ],
      "text/plain": [
       "\n",
       "                                  apygarda  \\\n",
       "\u001b[1;36m6502\u001b[0m   rezultataiDaugmRpg_rpgId-\u001b[1;36m24062.\u001b[0mhtml   \n",
       "\u001b[1;36m6157\u001b[0m   rezultataiDaugmRpg_rpgId-\u001b[1;36m24062.\u001b[0mhtml   \n",
       "\u001b[1;36m5902\u001b[0m   rezultataiDaugmRpg_rpgId-\u001b[1;36m24062.\u001b[0mhtml   \n",
       "\u001b[1;36m6262\u001b[0m   rezultataiDaugmRpg_rpgId-\u001b[1;36m24062.\u001b[0mhtml   \n",
       "\u001b[1;36m13186\u001b[0m  rezultataiDaugmRpg_rpgId-\u001b[1;36m24262.\u001b[0mhtml   \n",
       "\n",
       "                                               apylinke  VRK_nr  \\\n",
       "\u001b[1;36m6502\u001b[0m   rezultataiDaugmRpl_rpgId-24062_rplId-\u001b[1;36m716058.\u001b[0mhtml      \u001b[1;36m17\u001b[0m   \n",
       "\u001b[1;36m6157\u001b[0m   rezultataiDaugmRpl_rpgId-24062_rplId-\u001b[1;36m716202.\u001b[0mhtml      \u001b[1;36m17\u001b[0m   \n",
       "\u001b[1;36m5902\u001b[0m   rezultataiDaugmRpl_rpgId-24062_rplId-\u001b[1;36m716196.\u001b[0mhtml      \u001b[1;36m17\u001b[0m   \n",
       "\u001b[1;36m6262\u001b[0m   rezultataiDaugmRpl_rpgId-24062_rplId-\u001b[1;36m713174.\u001b[0mhtml      \u001b[1;36m17\u001b[0m   \n",
       "\u001b[1;36m13186\u001b[0m  rezultataiDaugmRpl_rpgId-24262_rplId-\u001b[1;36m717506.\u001b[0mhtml      \u001b[1;36m13\u001b[0m   \n",
       "\n",
       "                                              party_name  \\\n",
       "\u001b[1;36m6502\u001b[0m   Lietuvos lenkų rinkimų akcija-Krikščioniškų še\u001b[33m...\u001b[0m   \n",
       "\u001b[1;36m6157\u001b[0m   Lietuvos lenkų rinkimų akcija-Krikščioniškų še\u001b[33m...\u001b[0m   \n",
       "\u001b[1;36m5902\u001b[0m   Lietuvos lenkų rinkimų akcija-Krikščioniškų še\u001b[33m...\u001b[0m   \n",
       "\u001b[1;36m6262\u001b[0m   Lietuvos lenkų rinkimų akcija-Krikščioniškų še\u001b[33m...\u001b[0m   \n",
       "\u001b[1;36m13186\u001b[0m    Tėvynės sąjunga-Lietuvos krikščionys demokratai   \n",
       "\n",
       "       total_apylinke_votes  total_pirm_votes      rate  \n",
       "\u001b[1;36m6502\u001b[0m                    \u001b[1;36m157\u001b[0m             \u001b[1;36m776.0\u001b[0m  \u001b[1;36m4.942675\u001b[0m  \n",
       "\u001b[1;36m6157\u001b[0m                    \u001b[1;36m326\u001b[0m            \u001b[1;36m1563.0\u001b[0m  \u001b[1;36m4.794479\u001b[0m  \n",
       "\u001b[1;36m5902\u001b[0m                    \u001b[1;36m534\u001b[0m            \u001b[1;36m2512.0\u001b[0m  \u001b[1;36m4.704120\u001b[0m  \n",
       "\u001b[1;36m6262\u001b[0m                    \u001b[1;36m138\u001b[0m             \u001b[1;36m617.0\u001b[0m  \u001b[1;36m4.471014\u001b[0m  \n",
       "\u001b[1;36m13186\u001b[0m                   \u001b[1;36m541\u001b[0m            \u001b[1;36m2385.0\u001b[0m  \u001b[1;36m4.408503\u001b[0m  "
      ]
     },
     "execution_count": 109,
     "metadata": {},
     "output_type": "execute_result"
    }
   ],
   "source": [
    "high_rate.sort_values(by='rate',ascending=False)"
   ]
  },
  {
   "attachments": {
    "image.png": {
     "image/png": "[encoded data removed]"
    }
   },
   "cell_type": "markdown",
   "metadata": {},
   "source": [
    "Lastly we take a look inside the pirm votes of these 5 observations. Specifically we will look at the outliers that received more pirm votes than we would expect. The pirm votes are ranked by the final national pirm vote count in the party so we would expect the pirm votes in each apylinke to approximately follow the final result with some possible exceptions, a good example is number five in our table the Tėvynės sąjunga-Lietuvos krikščionys demokratai pirm votes in the Tarandės (Nr.217) apylinke. Though the range observed is suspect, the distribution of rates looks like something we would expect with top candidates getting the most votes and only Vytautas Kernagis looking stange, however he is the partie's nominee for the apylinke in the vienmandate election so the increased support is to be expected. \n",
    "\n",
    "A metric we will look at is how many and which candidates got more than half of their voters to give them their pirm votes. In this case with 541 votes cast the threshold is 270.5 and only two candidates pass it, specifically the two most popular candidates in the resulting pirm votes.\n",
    "\n",
    "![image.png](attachment:image.png)"
   ]
  },
  {
   "cell_type": "markdown",
   "metadata": {},
   "source": [
    "Top 4 in out list is the Dailidžių (Nr.35) apylinke in the Šalčininkų–Vilniaus (Nr.56) apygarda where Lietuvos lenkų rinkimų akcija-Krikščioniškų šeimų sąjunga (LLRA-KŠS) got 138 votes with a pirm rate of 4.47. The half voter threshold is 69 and is is passed by these candidates (rank in the final national party pirm vote ranking is given): 1, 11, 39.\n",
    "\n",
    "The real standout of course is mister 39 or TADEUŠ RUDZIS who got 113 of 138 voters to cast pirm votes for him or 82% of voters. \n",
    "\n",
    "The listed Einamos pareigos (tarnyba) of candidates 11 and 39 include respectively Šalčininkų rajono savivaldybės vicemeras and Šalčininkų r. savivaldybės tarybos narys."
   ]
  },
  {
   "cell_type": "markdown",
   "metadata": {},
   "source": [
    "Top 3 is Baltosios Vokės (Nr.24) apylinke in the same apygarda where LLRA-KŠS got 534 votes with a pirm rate of 4.70. The half voter threshold is 267 and is is passed by these candidates: 2, 7, 29. Honourable mentions: 46 and 51 coming in at 247 and 262 pirm votes respectively.\n",
    "\n",
    "Listed pareigos for 7, 29, 46, 51: Šalčininkų rajono savivaldybės vicemeras, Šalčininkų r. savivaldybės tarybos narys, Šalčininkų r. savivaldybės tarybos narė, Šalčininkų r. savivaldybės tarybos narė."
   ]
  },
  {
   "cell_type": "markdown",
   "metadata": {},
   "source": [
    "Top 2 is Akmenynės (Nr.28) apylinke in the same apygarda where LLRA-KŠS got 326 votes with a pirm rate of 4.79. The half voter threshold is 163 and is is passed by these candidates: 1, 7, 11. Honourable mentions: 73 with 101 pirm votes.\n",
    "\n",
    "Listed pareigos for 7, 11, 73: Šalčininkų rajono savivaldybės vicemeras, Šalčininkų rajono savivaldybės vicemeras, Šalčininkų r. savivaldybės tarybos narė,  Socialinė pedagogė."
   ]
  },
  {
   "cell_type": "markdown",
   "metadata": {},
   "source": [
    "Top 1 is Jančiūnų (Nr.11) apylinke in the same apygarda where LLRA-KŠS got 157 votes with a pirm rate of 4.94. The half voter threshold is 78.5 and is is passed by these candidates: 1, 7, 8, 11, 39.\n",
    "\n",
    "Listed pareigos for 7, 8, 11, 39: Šalčininkų rajono savivaldybės vicemeras, Trakų r. savivaldybės tarybos narys, Šalčininkų rajono savivaldybės vicemeras,  Šalčininkų r. savivaldybės tarybos narys."
   ]
  },
  {
   "cell_type": "markdown",
   "metadata": {},
   "source": [
    "# Outstanding performances\n",
    "\n",
    "Numbers 7, 11 and 39 of LLRA-KŠS all of whom got at least 50% of voters to give them pirm votes in at least two dfferent apylinke. "
   ]
  }
 ],
 "metadata": {
  "kernelspec": {
   "display_name": ".venv",
   "language": "python",
   "name": "python3"
  },
  "language_info": {
   "codemirror_mode": {
    "name": "ipython",
    "version": 3
   },
   "file_extension": ".py",
   "mimetype": "text/x-python",
   "name": "python",
   "nbconvert_exporter": "python",
   "pygments_lexer": "ipython3",
   "version": "3.11.4"
  }
 },
 "nbformat": 4,
 "nbformat_minor": 2
}
